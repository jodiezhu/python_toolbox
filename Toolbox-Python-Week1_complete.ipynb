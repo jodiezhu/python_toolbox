{
 "cells": [
  {
   "cell_type": "markdown",
   "metadata": {},
   "source": [
    "-------------\n",
    "<h1 align='center'> Data Science Toolbox: Python Day 1 </h1>\n",
    "\n",
    "<center align=\"left\"> Developed by: </center>\n",
    "<center align=\"left\"> WeCloudData Academy </center>\n",
    "<img src='../images/wcd_logo.png' width='50%'>\n",
    "\n",
    "\n",
    "<p style=\"text-align: center;\"> \n",
    "    1. Introduction to Jupyter <br>\n",
    "    2. Python Basics <br>\n",
    "    3. Branching and conditionals, Iterations and loops <br>\n",
    "    4. Introduction to data types: tuples, lists, dictionaries <br>\n",
    "    5. Functions <br>\n",
    "\n",
    "    </center>\n",
    "</p>\n",
    "\n",
    "\n",
    "----------"
   ]
  },
  {
   "cell_type": "markdown",
   "metadata": {},
   "source": [
    "# 1. Introduction to Jupyter \n",
    "\n",
    "The Jupyter Notebook is an interactive computing environment that enables users to author notebook documents that include: - Live code - Interactive widgets - Plots - Narrative text - Equations - Images - Video\n",
    "\n",
    "-----------------\n",
    "\n",
    "First of all, you can run our first Python code in Jupyter"
   ]
  },
  {
   "cell_type": "code",
   "execution_count": null,
   "metadata": {},
   "outputs": [],
   "source": [
    "print (\"Hello, world!\")"
   ]
  },
  {
   "cell_type": "markdown",
   "metadata": {},
   "source": [
    "Objects and functions stick around from cell to cell: we can define a function here:"
   ]
  },
  {
   "cell_type": "code",
   "execution_count": null,
   "metadata": {
    "scrolled": true
   },
   "outputs": [],
   "source": [
    "def do_job():\n",
    "    print (\"Hello Again, world!\")"
   ]
  },
  {
   "cell_type": "markdown",
   "metadata": {},
   "source": [
    "And call it here...."
   ]
  },
  {
   "cell_type": "code",
   "execution_count": null,
   "metadata": {},
   "outputs": [],
   "source": [
    "do_job()"
   ]
  },
  {
   "cell_type": "markdown",
   "metadata": {},
   "source": [
    "How to inspect package or library?"
   ]
  },
  {
   "cell_type": "code",
   "execution_count": null,
   "metadata": {},
   "outputs": [],
   "source": [
    "import pandas\n",
    "pandas?"
   ]
  },
  {
   "cell_type": "markdown",
   "metadata": {},
   "source": [
    "## 1.1 Markdown Cells\n",
    "\n",
    "Text can be added to Jupyter Notebooks using Markdown cells. Markdown is a popular markup language that is a superset of HTML. "
   ]
  },
  {
   "cell_type": "markdown",
   "metadata": {},
   "source": [
    "**This is a markdown cell.**"
   ]
  },
  {
   "cell_type": "markdown",
   "metadata": {},
   "source": [
    "# Header1\n",
    "## Header2\n",
    "### Header3"
   ]
  },
  {
   "cell_type": "markdown",
   "metadata": {},
   "source": [
    "1. First ordered list item\n",
    "2. Another item\n",
    " * Unordered sub-list1. "
   ]
  },
  {
   "cell_type": "markdown",
   "metadata": {},
   "source": [
    "**Links**\n",
    "\n",
    "[I'm an inline-style link](https://www.google.com)\n"
   ]
  },
  {
   "cell_type": "markdown",
   "metadata": {},
   "source": [
    "! If you want to check more about the markdown cells, go to:\n",
    "\n",
    "[Markdown Cheatsheet](https://github.com/adam-p/markdown-here/wiki/Markdown-Cheatsheet)"
   ]
  },
  {
   "cell_type": "markdown",
   "metadata": {},
   "source": [
    "----------\n",
    "## Exercise: Markdown Cell\n",
    "\n",
    "Write your own markdown in the following format:\n"
   ]
  },
  {
   "cell_type": "markdown",
   "metadata": {},
   "source": [
    "### Problem 1.1"
   ]
  },
  {
   "cell_type": "code",
   "execution_count": null,
   "metadata": {},
   "outputs": [],
   "source": [
    "    "
   ]
  },
  {
   "cell_type": "markdown",
   "metadata": {},
   "source": [
    "### Markdown basics\n",
    "\n",
    "You can make text *italic* or **bold**."
   ]
  },
  {
   "cell_type": "markdown",
   "metadata": {},
   "source": [
    "### Problem 1.2"
   ]
  },
  {
   "cell_type": "markdown",
   "metadata": {},
   "source": [
    "You can build nested itemized or enumerated lists:\n",
    "* One\n",
    " * Sublist\n",
    "   * This\n",
    "\n",
    "Now another list:\n",
    "\n",
    "1. Here we go\n",
    " 1. Sublist\n",
    "1. Sublist"
   ]
  },
  {
   "cell_type": "markdown",
   "metadata": {},
   "source": [
    "### Problem 1.3"
   ]
  },
  {
   "cell_type": "markdown",
   "metadata": {},
   "source": [
    "You can add horizontal rules:\n",
    "\n",
    "---------------"
   ]
  },
  {
   "cell_type": "markdown",
   "metadata": {},
   "source": [
    "### Problem 1.4"
   ]
  },
  {
   "cell_type": "markdown",
   "metadata": {},
   "source": [
    "Here is a blockquote:\n",
    "\n",
    ">  let’s do more of those!"
   ]
  },
  {
   "cell_type": "markdown",
   "metadata": {},
   "source": [
    "### Problem 1.5"
   ]
  },
  {
   "cell_type": "markdown",
   "metadata": {},
   "source": [
    "And shorthand for links:\n",
    "\n",
    "[Jupyter’s website](http://jupyter.org/)"
   ]
  },
  {
   "cell_type": "markdown",
   "metadata": {},
   "source": [
    "### Problem 1.6"
   ]
  },
  {
   "cell_type": "markdown",
   "metadata": {},
   "source": [
    "```python\n",
    "s = \"I am Embedded code\"\n",
    "print s\n",
    "```"
   ]
  },
  {
   "cell_type": "markdown",
   "metadata": {},
   "source": [
    "### Problem 1.7\n",
    "\n",
    "The file location of the image is: images/wcd_logo.png"
   ]
  },
  {
   "cell_type": "markdown",
   "metadata": {},
   "source": [
    "Here's our logo:\n",
    "\n",
    "<img src='../images/wcd_logo.png' width='60%'>"
   ]
  },
  {
   "cell_type": "code",
   "execution_count": null,
   "metadata": {},
   "outputs": [],
   "source": []
  },
  {
   "cell_type": "markdown",
   "metadata": {},
   "source": [
    "> **Tip!** Use \"Command\"+\"/\" (on mac) to help comment/uncomment out the code!!"
   ]
  },
  {
   "cell_type": "markdown",
   "metadata": {},
   "source": [
    "## 1.2 Time for some magic\n",
    "\n",
    "Lines and cells that starts with \"%\" are not interpreted like normal Python. They are MAGIC!!! \n",
    "\n",
    "Let's try a simple one first which will show us what kind of magic is available."
   ]
  },
  {
   "cell_type": "code",
   "execution_count": 1,
   "metadata": {},
   "outputs": [
    {
     "data": {
      "application/json": {
       "cell": {
        "!": "OSMagics",
        "HTML": "Other",
        "SVG": "Other",
        "bash": "Other",
        "capture": "ExecutionMagics",
        "debug": "ExecutionMagics",
        "file": "Other",
        "html": "DisplayMagics",
        "javascript": "DisplayMagics",
        "js": "DisplayMagics",
        "latex": "DisplayMagics",
        "perl": "Other",
        "prun": "ExecutionMagics",
        "pypy": "Other",
        "python": "Other",
        "python2": "Other",
        "python3": "Other",
        "ruby": "Other",
        "script": "ScriptMagics",
        "sh": "Other",
        "svg": "DisplayMagics",
        "sx": "OSMagics",
        "system": "OSMagics",
        "time": "ExecutionMagics",
        "timeit": "ExecutionMagics",
        "writefile": "OSMagics"
       },
       "line": {
        "alias": "OSMagics",
        "alias_magic": "BasicMagics",
        "autocall": "AutoMagics",
        "automagic": "AutoMagics",
        "autosave": "KernelMagics",
        "bookmark": "OSMagics",
        "cat": "Other",
        "cd": "OSMagics",
        "clear": "KernelMagics",
        "colors": "BasicMagics",
        "config": "ConfigMagics",
        "connect_info": "KernelMagics",
        "cp": "Other",
        "debug": "ExecutionMagics",
        "dhist": "OSMagics",
        "dirs": "OSMagics",
        "doctest_mode": "BasicMagics",
        "ed": "Other",
        "edit": "KernelMagics",
        "env": "OSMagics",
        "gui": "BasicMagics",
        "hist": "Other",
        "history": "HistoryMagics",
        "killbgscripts": "ScriptMagics",
        "ldir": "Other",
        "less": "KernelMagics",
        "lf": "Other",
        "lk": "Other",
        "ll": "Other",
        "load": "CodeMagics",
        "load_ext": "ExtensionMagics",
        "loadpy": "CodeMagics",
        "logoff": "LoggingMagics",
        "logon": "LoggingMagics",
        "logstart": "LoggingMagics",
        "logstate": "LoggingMagics",
        "logstop": "LoggingMagics",
        "ls": "Other",
        "lsmagic": "BasicMagics",
        "lx": "Other",
        "macro": "ExecutionMagics",
        "magic": "BasicMagics",
        "man": "KernelMagics",
        "matplotlib": "PylabMagics",
        "mkdir": "Other",
        "more": "KernelMagics",
        "mv": "Other",
        "notebook": "BasicMagics",
        "page": "BasicMagics",
        "pastebin": "CodeMagics",
        "pdb": "ExecutionMagics",
        "pdef": "NamespaceMagics",
        "pdoc": "NamespaceMagics",
        "pfile": "NamespaceMagics",
        "pinfo": "NamespaceMagics",
        "pinfo2": "NamespaceMagics",
        "popd": "OSMagics",
        "pprint": "BasicMagics",
        "precision": "BasicMagics",
        "profile": "BasicMagics",
        "prun": "ExecutionMagics",
        "psearch": "NamespaceMagics",
        "psource": "NamespaceMagics",
        "pushd": "OSMagics",
        "pwd": "OSMagics",
        "pycat": "OSMagics",
        "pylab": "PylabMagics",
        "qtconsole": "KernelMagics",
        "quickref": "BasicMagics",
        "recall": "HistoryMagics",
        "rehashx": "OSMagics",
        "reload_ext": "ExtensionMagics",
        "rep": "Other",
        "rerun": "HistoryMagics",
        "reset": "NamespaceMagics",
        "reset_selective": "NamespaceMagics",
        "rm": "Other",
        "rmdir": "Other",
        "run": "ExecutionMagics",
        "save": "CodeMagics",
        "sc": "OSMagics",
        "set_env": "OSMagics",
        "store": "StoreMagics",
        "sx": "OSMagics",
        "system": "OSMagics",
        "tb": "ExecutionMagics",
        "time": "ExecutionMagics",
        "timeit": "ExecutionMagics",
        "unalias": "OSMagics",
        "unload_ext": "ExtensionMagics",
        "who": "NamespaceMagics",
        "who_ls": "NamespaceMagics",
        "whos": "NamespaceMagics",
        "xdel": "NamespaceMagics",
        "xmode": "BasicMagics"
       }
      },
      "text/plain": [
       "Available line magics:\n",
       "%alias  %alias_magic  %autocall  %automagic  %autosave  %bookmark  %cat  %cd  %clear  %colors  %config  %connect_info  %cp  %debug  %dhist  %dirs  %doctest_mode  %ed  %edit  %env  %gui  %hist  %history  %killbgscripts  %ldir  %less  %lf  %lk  %ll  %load  %load_ext  %loadpy  %logoff  %logon  %logstart  %logstate  %logstop  %ls  %lsmagic  %lx  %macro  %magic  %man  %matplotlib  %mkdir  %more  %mv  %notebook  %page  %pastebin  %pdb  %pdef  %pdoc  %pfile  %pinfo  %pinfo2  %popd  %pprint  %precision  %profile  %prun  %psearch  %psource  %pushd  %pwd  %pycat  %pylab  %qtconsole  %quickref  %recall  %rehashx  %reload_ext  %rep  %rerun  %reset  %reset_selective  %rm  %rmdir  %run  %save  %sc  %set_env  %store  %sx  %system  %tb  %time  %timeit  %unalias  %unload_ext  %who  %who_ls  %whos  %xdel  %xmode\n",
       "\n",
       "Available cell magics:\n",
       "%%!  %%HTML  %%SVG  %%bash  %%capture  %%debug  %%file  %%html  %%javascript  %%js  %%latex  %%perl  %%prun  %%pypy  %%python  %%python2  %%python3  %%ruby  %%script  %%sh  %%svg  %%sx  %%system  %%time  %%timeit  %%writefile\n",
       "\n",
       "Automagic is ON, % prefix IS NOT needed for line magics."
      ]
     },
     "execution_count": 1,
     "metadata": {},
     "output_type": "execute_result"
    }
   ],
   "source": [
    "%lsmagic"
   ]
  },
  {
   "cell_type": "code",
   "execution_count": 2,
   "metadata": {
    "scrolled": false
   },
   "outputs": [
    {
     "name": "stdout",
     "output_type": "stream",
     "text": [
      "Icon?                               Toolbox-Python-Week1-Student.ipynb\r\n",
      "Toolbox-Python-Day-1.pptx           Toolbox-Python-Week1.ipynb\r\n"
     ]
    }
   ],
   "source": [
    "%ls"
   ]
  },
  {
   "cell_type": "markdown",
   "metadata": {},
   "source": [
    "%time & %%timeit: See how long a script takes to run (one time, or averaged over a bunch of runs).\n",
    "\n",
    "**%%timeit is the function that executes the command several times, not %time**"
   ]
  },
  {
   "cell_type": "code",
   "execution_count": 3,
   "metadata": {
    "scrolled": false
   },
   "outputs": [
    {
     "name": "stdout",
     "output_type": "stream",
     "text": [
      "Hello! Again??\n",
      "CPU times: user 213 µs, sys: 155 µs, total: 368 µs\n",
      "Wall time: 242 µs\n"
     ]
    }
   ],
   "source": [
    "%time print (\"Hello! Again??\")"
   ]
  },
  {
   "cell_type": "code",
   "execution_count": 4,
   "metadata": {
    "scrolled": false
   },
   "outputs": [
    {
     "name": "stdout",
     "output_type": "stream",
     "text": [
      "The slowest run took 5.87 times longer than the fastest. This could mean that an intermediate result is being cached.\n",
      "1000000 loops, best of 3: 853 ns per loop\n"
     ]
    }
   ],
   "source": [
    "%%timeit \n",
    "x=0\n",
    "for i in range(10): \n",
    "    x+=i"
   ]
  },
  {
   "cell_type": "markdown",
   "metadata": {},
   "source": [
    "### 1.2.1 Third-party Magic"
   ]
  },
  {
   "cell_type": "code",
   "execution_count": 6,
   "metadata": {
    "scrolled": true
   },
   "outputs": [
    {
     "name": "stdout",
     "output_type": "stream",
     "text": [
      "The sql extension is already loaded. To reload it, use:\n",
      "  %reload_ext sql\n"
     ]
    }
   ],
   "source": [
    "%load_ext sql"
   ]
  },
  {
   "cell_type": "markdown",
   "metadata": {},
   "source": [
    "> If you see the error of \"No module named sql\", you need to install the extention of sql first. Try to run \"pip install ipython-sql\" in your terminal.\n",
    "\n",
    "The sql now is loaded. If you want to reload it, use:\n",
    "  \n",
    "  %reload_ext sql\n",
    "  \n",
    "Next, we are connecting to an empty, inmemory sql database:"
   ]
  },
  {
   "cell_type": "code",
   "execution_count": 7,
   "metadata": {
    "scrolled": false
   },
   "outputs": [
    {
     "data": {
      "text/plain": [
       "'Connected: None@None'"
      ]
     },
     "execution_count": 7,
     "metadata": {},
     "output_type": "execute_result"
    }
   ],
   "source": [
    "%sql sqlite:// "
   ]
  },
  {
   "cell_type": "code",
   "execution_count": 8,
   "metadata": {},
   "outputs": [
    {
     "name": "stdout",
     "output_type": "stream",
     "text": [
      "Done.\n",
      "Done.\n",
      "1 rows affected.\n",
      "1 rows affected.\n",
      "1 rows affected.\n"
     ]
    },
    {
     "data": {
      "text/plain": [
       "[]"
      ]
     },
     "execution_count": 8,
     "metadata": {},
     "output_type": "execute_result"
    }
   ],
   "source": [
    "%%sql\n",
    "\n",
    "DROP TABLE IF EXISTS orders;\n",
    "CREATE TABLE orders (\"OrderID\",\"OrderNumber\",\"ProductID\",\"Quantity\");\n",
    "INSERT INTO orders VALUES (1,10248,11,12);\n",
    "INSERT INTO orders VALUES (2,10248,42,10);\n",
    "INSERT INTO orders VALUES (3,10249,14,9);"
   ]
  },
  {
   "cell_type": "code",
   "execution_count": 11,
   "metadata": {},
   "outputs": [
    {
     "ename": "SyntaxError",
     "evalue": "invalid syntax (<unknown>, line 2)",
     "output_type": "error",
     "traceback": [
      "\u001b[0;36m  File \u001b[0;32m\"<unknown>\"\u001b[0;36m, line \u001b[0;32m2\u001b[0m\n\u001b[0;31m    SELECT * FROM orders\u001b[0m\n\u001b[0m                       ^\u001b[0m\n\u001b[0;31mSyntaxError\u001b[0m\u001b[0;31m:\u001b[0m invalid syntax\n"
     ]
    }
   ],
   "source": [
    "%%sql \n",
    "\n",
    "SELECT * FROM orders"
   ]
  },
  {
   "cell_type": "code",
   "execution_count": 10,
   "metadata": {
    "scrolled": true
   },
   "outputs": [
    {
     "name": "stdout",
     "output_type": "stream",
     "text": [
      "Done.\n"
     ]
    },
    {
     "data": {
      "text/html": [
       "<table>\n",
       "    <tr>\n",
       "        <th>OrderID</th>\n",
       "        <th>OrderNumber</th>\n",
       "        <th>ProductID</th>\n",
       "        <th>Quantity</th>\n",
       "    </tr>\n",
       "    <tr>\n",
       "        <td>1</td>\n",
       "        <td>10248</td>\n",
       "        <td>11</td>\n",
       "        <td>12</td>\n",
       "    </tr>\n",
       "    <tr>\n",
       "        <td>2</td>\n",
       "        <td>10248</td>\n",
       "        <td>42</td>\n",
       "        <td>10</td>\n",
       "    </tr>\n",
       "    <tr>\n",
       "        <td>3</td>\n",
       "        <td>10249</td>\n",
       "        <td>14</td>\n",
       "        <td>9</td>\n",
       "    </tr>\n",
       "</table>"
      ],
      "text/plain": [
       "[(1, 10248, 11, 12), (2, 10248, 42, 10), (3, 10249, 14, 9)]"
      ]
     },
     "execution_count": 10,
     "metadata": {},
     "output_type": "execute_result"
    }
   ],
   "source": [
    "%sql SELECT * FROM orders"
   ]
  },
  {
   "cell_type": "markdown",
   "metadata": {},
   "source": [
    "We can also capture the output of a cell magic and assign to a variable."
   ]
  },
  {
   "cell_type": "code",
   "execution_count": null,
   "metadata": {
    "scrolled": false
   },
   "outputs": [],
   "source": [
    "d%sql sata=elect * from orders where OrderNumber=10248\n",
    "data"
   ]
  },
  {
   "cell_type": "markdown",
   "metadata": {},
   "source": [
    "### 1.2.2 Going visual with Matplotlib\n",
    "\n",
    "Matplotlib cell magic let us tell Jupyter we want to see charts inline with the notebook."
   ]
  },
  {
   "cell_type": "code",
   "execution_count": 12,
   "metadata": {
    "scrolled": true
   },
   "outputs": [],
   "source": [
    "%matplotlib inline"
   ]
  },
  {
   "cell_type": "code",
   "execution_count": 13,
   "metadata": {
    "scrolled": true
   },
   "outputs": [
    {
     "data": {
      "text/plain": [
       "<matplotlib.text.Text at 0x11185cd90>"
      ]
     },
     "execution_count": 13,
     "metadata": {},
     "output_type": "execute_result"
    },
    {
     "data": {
      "image/png": "[encoded data removed]",
      "text/plain": [
       "<matplotlib.figure.Figure at 0x10da37550>"
      ]
     },
     "metadata": {},
     "output_type": "display_data"
    }
   ],
   "source": [
    "from pylab import *\n",
    "%matplotlib inline\n",
    "\n",
    "# The slices will be ordered and plotted counter-clockwise.\n",
    "labels = 'Frogs', 'Hogs', 'Dogs', 'Logs'\n",
    "fracs = [15, 30, 45, 10]\n",
    "explode=(0, 0.05, 0, 0)\n",
    "\n",
    "pie(fracs, explode=explode, labels=labels,\n",
    "                autopct='%1.1f%%', shadow=True, startangle=90)\n",
    "                # The default startangle is 0, which would start\n",
    "                # the Frogs slice on the x-axis.  With startangle=90,\n",
    "                # everything is rotated counter-clockwise by 90 degrees,\n",
    "                # so the plotting starts on the positive y-axis.\n",
    "\n",
    "title('Raining Hogs and Dogs', bbox={'facecolor':'0.8', 'pad':5})\n"
   ]
  },
  {
   "cell_type": "markdown",
   "metadata": {},
   "source": [
    "----------\n",
    "## Assignment: Magic\n"
   ]
  },
  {
   "cell_type": "markdown",
   "metadata": {},
   "source": [
    "Problem 1. Use **sql extension in Jupyter** to creat 2 sql tables named **\"Customers\" and \"Orders\"** with given data and format. \n",
    "\n",
    "**Table: Customers**\n",
    "\n",
    "| Id(INT) | Name(Var) |\n",
    "| --------|:---------:| \n",
    "| 1       |        Joe|\n",
    "| 2       |      Harry|\n",
    "| 3       |        Sam|\n",
    "| 4       |        Max|\n",
    "\n",
    "\n",
    "**Table: Orders**\n",
    "\n",
    "| Id(INT) | CustomerId(INT) |\n",
    "| --------|:---------------:| \n",
    "| 1       |                3|\n",
    "| 2       |                1|\n",
    "\n",
    "\n"
   ]
  },
  {
   "cell_type": "code",
   "execution_count": 5,
   "metadata": {},
   "outputs": [
    {
     "name": "stdout",
     "output_type": "stream",
     "text": [
      "Done.\n",
      "Done.\n",
      "1 rows affected.\n",
      "1 rows affected.\n",
      "1 rows affected.\n",
      "1 rows affected.\n",
      "Done.\n",
      "Done.\n",
      "1 rows affected.\n",
      "1 rows affected.\n"
     ]
    },
    {
     "data": {
      "text/plain": [
       "[]"
      ]
     },
     "execution_count": 5,
     "metadata": {},
     "output_type": "execute_result"
    }
   ],
   "source": [
    "%%sql\n",
    "\n",
    "DROP TABLE IF EXISTS Customers;\n",
    "CREATE TABLE Customers(\n",
    " Id INT,\n",
    " Name VAR,\n",
    " PRIMARY KEY (Id)\n",
    ");\n",
    "INSERT INTO Customers VALUES (1,'Joe');\n",
    "INSERT INTO Customers VALUES (2,'Harry');\n",
    "INSERT INTO Customers VALUES (3,'Sam');\n",
    "INSERT INTO Customers VALUES (4,'Max');\n",
    "\n",
    "\n",
    "DROP TABLE IF EXISTS Orders;\n",
    "CREATE TABLE Orders(\n",
    " Id INT,\n",
    " CustomerId INT,\n",
    " PRIMARY KEY (Id)\n",
    ");\n",
    "INSERT INTO Orders VALUES (1,3);\n",
    "INSERT INTO Orders VALUES (2,1);"
   ]
  },
  {
   "cell_type": "markdown",
   "metadata": {},
   "source": [
    "Using the above tables as example, return the following:\n",
    "\n",
    "| Customers(VAR) |\n",
    "| ---------------|\n",
    "| Harry          |\n",
    "| Max            |"
   ]
  },
  {
   "cell_type": "code",
   "execution_count": 6,
   "metadata": {},
   "outputs": [
    {
     "name": "stdout",
     "output_type": "stream",
     "text": [
      "Done.\n",
      "Done.\n"
     ]
    },
    {
     "data": {
      "text/html": [
       "<table>\n",
       "    <tr>\n",
       "        <th>Id</th>\n",
       "        <th>CustomerId</th>\n",
       "    </tr>\n",
       "    <tr>\n",
       "        <td>1</td>\n",
       "        <td>3</td>\n",
       "    </tr>\n",
       "    <tr>\n",
       "        <td>2</td>\n",
       "        <td>1</td>\n",
       "    </tr>\n",
       "</table>"
      ],
      "text/plain": [
       "[(1, 3), (2, 1)]"
      ]
     },
     "execution_count": 6,
     "metadata": {},
     "output_type": "execute_result"
    }
   ],
   "source": [
    "data1=%sql select * from Customers\n",
    "data2=%sql select * from Orders\n",
    "data1\n",
    "data2"
   ]
  },
  {
   "cell_type": "markdown",
   "metadata": {},
   "source": [
    "Using the above tables as example, **return the customer names who never order anythin from the store**. Results should follow as:"
   ]
  },
  {
   "cell_type": "code",
   "execution_count": null,
   "metadata": {},
   "outputs": [],
   "source": [
    "%%sql\n",
    "SELECT A.Name as Customers from Customers A\n",
    "WHERE A.Id NOT IN (SELECT B.CustomerID from Orders B);"
   ]
  },
  {
   "cell_type": "code",
   "execution_count": null,
   "metadata": {},
   "outputs": [],
   "source": []
  },
  {
   "cell_type": "markdown",
   "metadata": {},
   "source": [
    "Prblem 2. Use **sql extension in Jupyter** to creat 2 sql tables named **\"Employee\" and \"Department\"** with given data and format. \n",
    "\n",
    "**Table: Employee**\n",
    "\n",
    "| Id(INT) | Name(Var) |Salary(INT) |DepartmentId(INT) |\n",
    "| --------|:---------:|:----------:|:----------------:| \n",
    "| 1       |        Joe|        7000|                 1|\n",
    "| 2       |      Harry|        8000|                 2|\n",
    "| 3       |        Sam|        6000|                 2|\n",
    "| 4       |        Max|        9000|                 1|\n",
    "| 5       |       Jane|        6900|                 1|\n",
    "| 6       |      Richy|        8500|                 1|\n",
    "\n",
    "**Table: Department**\n",
    "\n",
    "| Id(INT) | Name(Var) |\n",
    "| --------|:---------:| \n",
    "| 1       |        IT |\n",
    "| 2       |      Sales|\n"
   ]
  },
  {
   "cell_type": "markdown",
   "metadata": {},
   "source": [
    "With the help of extension of sql in Jupyter, please write a SQL query to find employees who earn the **top three salaries in each of the department**. For the above tables, your SQL query should return the following rows.\n",
    "\n",
    "| Department(Var) | Employee(Var) |Salary(INT) |\n",
    "| ----------------|:-------------:|:----------:|\n",
    "|               IT|            Max|        9000|\n",
    "|               IT|          Richy|        8500|\n",
    "|               IT|            Joe|        7000|\n",
    "|            Sales|          Harry|        8000|\n",
    "|            Sales|            Sam|        6000|\n",
    "\n"
   ]
  },
  {
   "cell_type": "code",
   "execution_count": 8,
   "metadata": {},
   "outputs": [
    {
     "name": "stdout",
     "output_type": "stream",
     "text": [
      "Done.\n",
      "Done.\n",
      "1 rows affected.\n",
      "1 rows affected.\n",
      "1 rows affected.\n",
      "1 rows affected.\n",
      "1 rows affected.\n",
      "1 rows affected.\n",
      "Done.\n",
      "Done.\n",
      "1 rows affected.\n",
      "1 rows affected.\n"
     ]
    },
    {
     "data": {
      "text/plain": [
       "[]"
      ]
     },
     "execution_count": 8,
     "metadata": {},
     "output_type": "execute_result"
    }
   ],
   "source": [
    "%%sql\n",
    "\n",
    "DROP TABLE IF EXISTS Employee;\n",
    "CREATE TABLE Employee(\n",
    " Id INT,\n",
    " Name VAR,\n",
    " Salary INT,\n",
    " DepartmentId INT,\n",
    " PRIMARY KEY (Id)\n",
    ");\n",
    "\n",
    "INSERT INTO Employee VALUES (1,'Joe',7000,1);\n",
    "INSERT INTO Employee VALUES (2,'Harry',8000,2);\n",
    "INSERT INTO Employee VALUES (3,'Sam',6000,2);\n",
    "INSERT INTO Employee VALUES (4,'Max',9000,1);\n",
    "INSERT INTO Employee VALUES (5,'Jane',6900,1);\n",
    "INSERT INTO Employee VALUES (6,'Richy',8500,1);\n",
    "\n",
    "DROP TABLE IF EXISTS Department;\n",
    "CREATE TABLE Department(\n",
    " Id INT,\n",
    " Name VAR,\n",
    " PRIMARY KEY (Id)\n",
    ");\n",
    "INSERT INTO Department VALUES (1,'IT');\n",
    "INSERT INTO Department VALUES (2,'Sales');\n"
   ]
  },
  {
   "cell_type": "code",
   "execution_count": 9,
   "metadata": {},
   "outputs": [
    {
     "name": "stdout",
     "output_type": "stream",
     "text": [
      "Done.\n"
     ]
    },
    {
     "data": {
      "text/html": [
       "<table>\n",
       "    <tr>\n",
       "        <th>Department</th>\n",
       "        <th>Employee</th>\n",
       "        <th>Salary</th>\n",
       "    </tr>\n",
       "    <tr>\n",
       "        <td>IT</td>\n",
       "        <td>Joe</td>\n",
       "        <td>7000</td>\n",
       "    </tr>\n",
       "    <tr>\n",
       "        <td>Sales</td>\n",
       "        <td>Harry</td>\n",
       "        <td>8000</td>\n",
       "    </tr>\n",
       "    <tr>\n",
       "        <td>Sales</td>\n",
       "        <td>Sam</td>\n",
       "        <td>6000</td>\n",
       "    </tr>\n",
       "    <tr>\n",
       "        <td>IT</td>\n",
       "        <td>Max</td>\n",
       "        <td>9000</td>\n",
       "    </tr>\n",
       "    <tr>\n",
       "        <td>IT</td>\n",
       "        <td>Richy</td>\n",
       "        <td>8500</td>\n",
       "    </tr>\n",
       "</table>"
      ],
      "text/plain": [
       "[(u'IT', u'Joe', 7000),\n",
       " (u'Sales', u'Harry', 8000),\n",
       " (u'Sales', u'Sam', 6000),\n",
       " (u'IT', u'Max', 9000),\n",
       " (u'IT', u'Richy', 8500)]"
      ]
     },
     "execution_count": 9,
     "metadata": {},
     "output_type": "execute_result"
    }
   ],
   "source": [
    "%%sql\n",
    "\n",
    "SELECT D.Name as Department, E.Name as Employee, E.Salary \n",
    "From Department D, Employee E\n",
    "Where D.Id=E.DepartmentId\n",
    "And \n",
    "(SELECT COUNT(DISTINCT Salary) from Employee \n",
    "WHERE DepartmentId=E.DepartmentId\n",
    "AND Salary>E.Salary )<3\n"
   ]
  },
  {
   "cell_type": "code",
   "execution_count": null,
   "metadata": {},
   "outputs": [],
   "source": []
  },
  {
   "cell_type": "markdown",
   "metadata": {},
   "source": [
    "# 2. Python Basics"
   ]
  },
  {
   "cell_type": "markdown",
   "metadata": {},
   "source": [
    "## 2.1 Printing to console\n",
    "\n",
    "To show output from code to a user, use print command. Or you could leave the variable name in the Jupyter. "
   ]
  },
  {
   "cell_type": "code",
   "execution_count": 15,
   "metadata": {
    "scrolled": true
   },
   "outputs": [
    {
     "name": "stdout",
     "output_type": "stream",
     "text": [
      "Jodie\n"
     ]
    },
    {
     "data": {
      "text/plain": [
       "'Jodie'"
      ]
     },
     "execution_count": 15,
     "metadata": {},
     "output_type": "execute_result"
    }
   ],
   "source": [
    "name=\"Jodie\"#string name in either single or double quotes\n",
    "print(name)\n",
    "name"
   ]
  },
  {
   "cell_type": "markdown",
   "metadata": {},
   "source": [
    "> Out[n] tells you it is an interaction with shell.\n",
    "\n",
    "> No Out[n] means it is actually shown to a user apparent when you run/edit file.\n",
    "\n",
    "> Out[*] means it is still running."
   ]
  },
  {
   "cell_type": "markdown",
   "metadata": {},
   "source": [
    "Format using print:"
   ]
  },
  {
   "cell_type": "code",
   "execution_count": 20,
   "metadata": {},
   "outputs": [
    {
     "name": "stdout",
     "output_type": "stream",
     "text": [
      "\n",
      "\n",
      "\n",
      "\n",
      "Neven give\n",
      "up\n"
     ]
    }
   ],
   "source": [
    "#If you want to put a quote in the output\n",
    "# print(\"\"\\I am the best) \n",
    "\n",
    "#back slash n for new lines\n",
    "print(\"\\n\" * 3) \n",
    "\n",
    "\n",
    "#If you want to print in multi-lines.\n",
    "multi_line_quote='''Neven give\n",
    "up'''\n",
    "print(multi_line_quote)"
   ]
  },
  {
   "cell_type": "markdown",
   "metadata": {},
   "source": [
    "## 2.2 Operators\n"
   ]
  },
  {
   "cell_type": "markdown",
   "metadata": {},
   "source": [
    "### 2.2.1 Arithmetic operators in Python\n",
    "\n",
    "You can do almost all mathematical operations in Python.\n",
    "\n",
    "**If all variables are ints then the result would be ints.**\n",
    " \n",
    "**If either or both are floats, the tne result would be floats.**\n",
    "\n",
    "| Operators|   Meaning|\n",
    "| ---------|:--------:|\n",
    "|         +|       Sum|\n",
    "|         -|Difference|\n",
    "|        \\*|   Product|\n",
    "|         \\|  Division|\n",
    "|         %|  Reminder|\n",
    "|      \\*\\*|     Power|\n",
    "|//|Floor Divison|\n"
   ]
  },
  {
   "cell_type": "code",
   "execution_count": 21,
   "metadata": {},
   "outputs": [
    {
     "name": "stdout",
     "output_type": "stream",
     "text": [
      "('x // y =', 7)\n",
      "('x % y =', 1)\n",
      "('x ** y =', 225)\n"
     ]
    }
   ],
   "source": [
    "x = 15\n",
    "y = 2\n",
    "\n",
    "print('x // y =',x//y)\n",
    "print('x % y =',x%y)\n",
    "print('x ** y =',x**y)"
   ]
  },
  {
   "cell_type": "markdown",
   "metadata": {},
   "source": [
    "> In python, the equivalent expression to x=x+1 is **x+=1**"
   ]
  },
  {
   "cell_type": "code",
   "execution_count": 81,
   "metadata": {},
   "outputs": [
    {
     "data": {
      "text/plain": [
       "7"
      ]
     },
     "execution_count": 81,
     "metadata": {},
     "output_type": "execute_result"
    }
   ],
   "source": [
    "x = 6\n",
    "x+=1\n",
    "x*=2\n",
    "x-=1"
   ]
  },
  {
   "cell_type": "markdown",
   "metadata": {},
   "source": [
    "### 2.2.2 Comparison operators\n",
    "Comparison operators are used to compare values. It either returns True or False according to the condition."
   ]
  },
  {
   "cell_type": "markdown",
   "metadata": {},
   "source": [
    "| Operators|   Meaning|\n",
    "| ---------|:--------:|\n",
    "|         >|       Greater that|\n",
    "|         <|Less that|\n",
    "|        ==|   Equal to|\n",
    "|        !=|  Not equal to|\n",
    "|        >=|  Greater than or equal to|\n",
    "|        <=|  Less than or equal to|\n"
   ]
  },
  {
   "cell_type": "code",
   "execution_count": 22,
   "metadata": {},
   "outputs": [
    {
     "name": "stdout",
     "output_type": "stream",
     "text": [
      "('x != y is', True)\n",
      "('x >= y is', False)\n"
     ]
    }
   ],
   "source": [
    "x = 10\n",
    "y = 12\n",
    "\n",
    "print('x != y is',x!=y)\n",
    "print('x >= y is',x>=y)"
   ]
  },
  {
   "cell_type": "markdown",
   "metadata": {},
   "source": [
    "### 2.2.3 Logical operators\n",
    "Logical operators are the **and, or, not ** operators."
   ]
  },
  {
   "cell_type": "markdown",
   "metadata": {},
   "source": [
    "| A|   B| A and B| A or B|\n",
    "|-----|:----:|-----|:----:|\n",
    "|True|True|True|True|\n",
    "|False|False|False|False|\n",
    "|True|False|False|True|\n",
    "|False|True|False|True|"
   ]
  },
  {
   "cell_type": "code",
   "execution_count": 23,
   "metadata": {},
   "outputs": [
    {
     "data": {
      "text/plain": [
       "False"
      ]
     },
     "execution_count": 23,
     "metadata": {},
     "output_type": "execute_result"
    }
   ],
   "source": [
    "my_height = 171\n",
    "Average_height= 173\n",
    "\n",
    "my_height > Average_height"
   ]
  },
  {
   "cell_type": "markdown",
   "metadata": {},
   "source": [
    "----------\n",
    "## Exercise: Python Basics"
   ]
  },
  {
   "cell_type": "markdown",
   "metadata": {},
   "source": [
    "### Problem 1"
   ]
  },
  {
   "cell_type": "markdown",
   "metadata": {},
   "source": [
    "Write a program that does the following in order:\n",
    "1. Asks the user to enter a number “x” \n",
    "2. Asks the user to enter a number “y”\n",
    "3. Prints out number “x”, raised to the power “y”. \n",
    "4. Prints out the log (base 2) of “x”.\n",
    "5. Prints out the square root of “x”.\n"
   ]
  },
  {
   "cell_type": "markdown",
   "metadata": {},
   "source": [
    "**Outputs are expected to be:**\n",
    "```python\n",
    "Enter a number x: 4 \n",
    "Enter a number y: 3 \n",
    "x**y = 64\n",
    "log(x) = 2\n",
    "sqrt(x) = 2\n",
    "```\n",
    "\n",
    "--------------\n",
    "\n",
    "**Hints:**\n",
    "* To see how to use the print command, you may find it convenient to look at the [input](https://en.wikibooks.org/wiki/Non-Programmer%27s_Tutorial_for_Python_3/Hello,_World) and [output](https://en.wikibooks.org/wiki/Non-Programmer%27s_Tutorial_for_Python_3/Hello,_World) of the Python Wikibook. This will show you how to use print statements to print out values of variables.\n",
    "\n",
    "* Reference the [basic math](https://docs.python.org/2/library/math.html) section to read more about using basic mathematical operators in Python"
   ]
  },
  {
   "cell_type": "code",
   "execution_count": 24,
   "metadata": {
    "scrolled": false
   },
   "outputs": [
    {
     "name": "stdout",
     "output_type": "stream",
     "text": [
      "Enter a number x: 2\n",
      "Enter a number y: 5\n",
      "('x**y=', 32)\n",
      "('log(x)=', 1.0)\n",
      "('sqrt(x)=', 1.4142135623730951)\n"
     ]
    }
   ],
   "source": [
    "import math\n",
    "\n",
    "x = int(input(\"Enter a number x: \"))\n",
    "y = input(\"Enter a number y: \")\n",
    "print(\"x**y=\",x**y)\n",
    "print(\"log(x)=\", math.log(x,2))\n",
    "print(\"sqrt(x)=\",math.sqrt(x))"
   ]
  },
  {
   "cell_type": "code",
   "execution_count": null,
   "metadata": {},
   "outputs": [],
   "source": []
  },
  {
   "cell_type": "markdown",
   "metadata": {},
   "source": [
    "# 3 Control Flow- Branching"
   ]
  },
  {
   "cell_type": "markdown",
   "metadata": {},
   "source": [
    "## 3.1 if, elif, else STATEMENT"
   ]
  },
  {
   "cell_type": "markdown",
   "metadata": {},
   "source": [
    "## 3.2 Indentation"
   ]
  },
  {
   "cell_type": "code",
   "execution_count": 26,
   "metadata": {},
   "outputs": [
    {
     "name": "stdout",
     "output_type": "stream",
     "text": [
      "Enter a number for x: 6\n",
      "Enter a number for y: 8\n",
      "x is smaller\n"
     ]
    }
   ],
   "source": [
    "x = float(input(\"Enter a number for x: \"))\n",
    "y = float(input(\"Enter a number for y: \"))\n",
    "\n",
    "if x == y:\n",
    "    print(\"x and y are equal\")\n",
    "    if y != 0:\n",
    "        print(\"therefore, x / y is\", x/y)\n",
    "        \n",
    "elif x < y:\n",
    "    print(\"x is smaller\")\n",
    "\n",
    "else:\n",
    "    print(\"y is smaller\")\n",
    "\n",
    "print(\"thanks!\")"
   ]
  },
  {
   "cell_type": "markdown",
   "metadata": {},
   "source": [
    "## 3.3 while, for LOOPS"
   ]
  },
  {
   "cell_type": "markdown",
   "metadata": {},
   "source": [
    "> Python is case sensitive!!\n",
    "\n",
    "Example for while loop:"
   ]
  },
  {
   "cell_type": "code",
   "execution_count": 27,
   "metadata": {},
   "outputs": [
    {
     "name": "stdout",
     "output_type": "stream",
     "text": [
      "0\n",
      "1\n",
      "2\n",
      "3\n",
      "4\n"
     ]
    }
   ],
   "source": [
    "n=0\n",
    "\n",
    "while n < 5: \n",
    "    print (n)\n",
    "    n+=1\n",
    "    \n"
   ]
  },
  {
   "cell_type": "markdown",
   "metadata": {},
   "source": [
    "Example for for loop:"
   ]
  },
  {
   "cell_type": "code",
   "execution_count": 28,
   "metadata": {
    "scrolled": true
   },
   "outputs": [
    {
     "name": "stdout",
     "output_type": "stream",
     "text": [
      "0\n",
      "1\n",
      "2\n",
      "3\n",
      "4\n"
     ]
    }
   ],
   "source": [
    "for n in range (5): #0,1,2,3,4 length=5\n",
    "    print (n)"
   ]
  },
  {
   "cell_type": "code",
   "execution_count": 35,
   "metadata": {},
   "outputs": [
    {
     "data": {
      "text/plain": [
       "15"
      ]
     },
     "execution_count": 35,
     "metadata": {},
     "output_type": "execute_result"
    }
   ],
   "source": [
    "mysum = 0 \n",
    "\n",
    "for i in range(3, 9, 2): \n",
    "    mysum = mysum+ i  #mysum+=i\n",
    "mysum"
   ]
  },
  {
   "cell_type": "markdown",
   "metadata": {},
   "source": [
    "## 3.4 break and continue STATEMENT"
   ]
  },
  {
   "cell_type": "markdown",
   "metadata": {},
   "source": [
    "The break statement, breaks out of the innermost enclosing for or while loop"
   ]
  },
  {
   "cell_type": "code",
   "execution_count": 37,
   "metadata": {
    "scrolled": false
   },
   "outputs": [
    {
     "name": "stdout",
     "output_type": "stream",
     "text": [
      "21\n"
     ]
    }
   ],
   "source": [
    "mysum = 0\n",
    "\n",
    "for i in range(5, 11, 2):\n",
    "   mysum += i\n",
    "   if mysum == 6:\n",
    "       break\n",
    "       mysum += 1\n",
    "\n",
    "print(mysum)"
   ]
  },
  {
   "cell_type": "markdown",
   "metadata": {},
   "source": [
    "The **continue** statement, continues with the next iteration of the loop:"
   ]
  },
  {
   "cell_type": "code",
   "execution_count": 39,
   "metadata": {
    "scrolled": true
   },
   "outputs": [
    {
     "name": "stdout",
     "output_type": "stream",
     "text": [
      "Found an even number 2\n",
      "Found a number 3\n",
      "Found an even number 4\n",
      "Found a number 5\n",
      "Found an even number 6\n",
      "Found a number 7\n",
      "Found an even number 8\n",
      "Found a number 9\n"
     ]
    }
   ],
   "source": [
    "for num in range(2, 10):\n",
    "    \n",
    "    if num % 2 == 0:\n",
    "        print \"Found an even number\", num\n",
    "        continue\n",
    "        \n",
    "    print \"Found a number\", num"
   ]
  },
  {
   "cell_type": "markdown",
   "metadata": {},
   "source": [
    "----------\n",
    "## Exercise: Control Flow- Branching"
   ]
  },
  {
   "cell_type": "markdown",
   "metadata": {},
   "source": [
    "### Problem 1: \n",
    "Write a program to sum up first 8 integers out of 10(0+1+2+3+4+5+6+7). Use while loop breaks when the count value is 5. Then use print statement after the while loop to display the value of num_sum (i.e. 0+1+2+3+4+5+6+7).\n",
    "\n",
    "Output is expected to be:\n",
    "```python\n",
    "Sum of first  8 integers is :  28\n",
    "```"
   ]
  },
  {
   "cell_type": "code",
   "execution_count": 41,
   "metadata": {},
   "outputs": [
    {
     "name": "stdout",
     "output_type": "stream",
     "text": [
      "('Sum of first ', 8, 'integers is: ', 28)\n"
     ]
    }
   ],
   "source": [
    "num_sum = 0\n",
    "count = 0\n",
    "\n",
    "while(count<10):\n",
    "    num_sum +=count\n",
    "    count = count + 1 \n",
    "    if count== 8:\n",
    "        break\n",
    "print(\"Sum of first \",count,\"integers is: \", num_sum)"
   ]
  },
  {
   "cell_type": "markdown",
   "metadata": {},
   "source": [
    "### Problem 2: \n",
    "Use for loop to print out all the numbers from 0 to 10 except 6 and 8. \n",
    "\n",
    "Hints: use continue statement to return the control of the loop to the top.\n",
    "\n",
    "Output is expected to be:\n",
    "```python\n",
    "0\n",
    "1\n",
    "2\n",
    "3\n",
    "4\n",
    "5\n",
    "7\n",
    "9\n",
    "10\n",
    "```"
   ]
  },
  {
   "cell_type": "code",
   "execution_count": 43,
   "metadata": {
    "scrolled": true
   },
   "outputs": [
    {
     "name": "stdout",
     "output_type": "stream",
     "text": [
      "0\n",
      "1\n",
      "2\n",
      "3\n",
      "4\n",
      "5\n",
      "7\n",
      "9\n",
      "10\n"
     ]
    }
   ],
   "source": [
    "#way1\n",
    "for x in range(11):\n",
    "    if (x == 6 or x==8):\n",
    "        continue\n",
    "    print(x)\n",
    "    \n",
    "    \n",
    "#way2\n",
    "for x in range(11):\n",
    "    if (x != 6 and x!=8):\n",
    "        print(x)"
   ]
  },
  {
   "cell_type": "code",
   "execution_count": null,
   "metadata": {},
   "outputs": [],
   "source": []
  },
  {
   "cell_type": "markdown",
   "metadata": {},
   "source": [
    "# 4 Tuples and lists"
   ]
  },
  {
   "cell_type": "markdown",
   "metadata": {},
   "source": [
    "## 4.1 Tuples\n",
    "\n",
    "* an ordered sequence of elements, **can mix element types**!\n",
    "* Cannot change element values, **immutable (you cannot modify it)**!\n",
    "* represented with parentheses ()"
   ]
  },
  {
   "cell_type": "code",
   "execution_count": 48,
   "metadata": {},
   "outputs": [
    {
     "data": {
      "text/plain": [
       "(6, 'Jodie', 10, 'Hi', 5, 'Hello')"
      ]
     },
     "execution_count": 48,
     "metadata": {},
     "output_type": "execute_result"
    }
   ],
   "source": [
    "#empty tuple\n",
    "tp=() # Length is 0\n",
    "\n",
    "#Tuple example\n",
    "t=(6,\"Jodie\",10,\"Hi\")\n",
    "t\n",
    "\n",
    "t+(5,\"Hello\")"
   ]
  },
  {
   "cell_type": "code",
   "execution_count": 53,
   "metadata": {},
   "outputs": [
    {
     "data": {
      "text/plain": [
       "(6,)"
      ]
     },
     "execution_count": 53,
     "metadata": {},
     "output_type": "execute_result"
    }
   ],
   "source": [
    "#slice tuple\n",
    "t[0:2]\n",
    "t[0:1] #extra comma means tuple with only 1 element\n"
   ]
  },
  {
   "cell_type": "code",
   "execution_count": 54,
   "metadata": {},
   "outputs": [
    {
     "data": {
      "text/plain": [
       "4"
      ]
     },
     "execution_count": 54,
     "metadata": {},
     "output_type": "execute_result"
    }
   ],
   "source": [
    "#length of the tuple\n",
    "len(t) #(6,\"Jodie\",10,\"Hi\")"
   ]
  },
  {
   "cell_type": "code",
   "execution_count": 55,
   "metadata": {
    "scrolled": true
   },
   "outputs": [
    {
     "ename": "TypeError",
     "evalue": "'tuple' object does not support item assignment",
     "output_type": "error",
     "traceback": [
      "\u001b[0;31m---------------------------------------------------------------------------\u001b[0m",
      "\u001b[0;31mTypeError\u001b[0m                                 Traceback (most recent call last)",
      "\u001b[0;32m<ipython-input-55-90c060ce1c2e>\u001b[0m in \u001b[0;36m<module>\u001b[0;34m()\u001b[0m\n\u001b[1;32m      1\u001b[0m \u001b[0;31m#modify the tuple\u001b[0m\u001b[0;34m\u001b[0m\u001b[0;34m\u001b[0m\u001b[0m\n\u001b[0;32m----> 2\u001b[0;31m \u001b[0mt\u001b[0m\u001b[0;34m[\u001b[0m\u001b[0;36m0\u001b[0m\u001b[0;34m]\u001b[0m\u001b[0;34m=\u001b[0m\u001b[0;36m2\u001b[0m\u001b[0;34m\u001b[0m\u001b[0m\n\u001b[0m",
      "\u001b[0;31mTypeError\u001b[0m: 'tuple' object does not support item assignment"
     ]
    }
   ],
   "source": [
    "#modify the tuple\n",
    "t[0]=2"
   ]
  },
  {
   "cell_type": "markdown",
   "metadata": {},
   "source": [
    "Why we need the data type as Tuple??\n",
    "Becasue:\n",
    "1. conveniently used to swap variable values\n",
    "2. used to return more than one value from a function"
   ]
  },
  {
   "cell_type": "code",
   "execution_count": 56,
   "metadata": {},
   "outputs": [
    {
     "name": "stdout",
     "output_type": "stream",
     "text": [
      "('x is', 5)\n",
      "('y is', 8)\n"
     ]
    }
   ],
   "source": [
    "#Example: swap values\n",
    "x, y = 5, 8\n",
    "print(\"x is\",x)\n",
    "print(\"y is\",y)"
   ]
  },
  {
   "cell_type": "code",
   "execution_count": 57,
   "metadata": {},
   "outputs": [
    {
     "name": "stdout",
     "output_type": "stream",
     "text": [
      "('x is', 8)\n",
      "('y is', 5)\n"
     ]
    }
   ],
   "source": [
    "#Method 1:\n",
    "x, y ,z= 5, 8,1\n",
    "\n",
    "(x,y,z)=(z,x,y)\n",
    "print(\"x is\",x)\n",
    "print(\"y is\",y)"
   ]
  },
  {
   "cell_type": "code",
   "execution_count": 48,
   "metadata": {},
   "outputs": [
    {
     "name": "stdout",
     "output_type": "stream",
     "text": [
      "('x is', 8)\n",
      "('y is', 5)\n"
     ]
    }
   ],
   "source": [
    "#Method 2: by using a temp variable \n",
    "x, y = 5, 8\n",
    "\n",
    "temp=x\n",
    "x=y\n",
    "y=temp\n",
    "print(\"x is\",x)\n",
    "print(\"y is\",y)"
   ]
  },
  {
   "cell_type": "code",
   "execution_count": 59,
   "metadata": {},
   "outputs": [],
   "source": [
    "#Example: return more than one value\n",
    "def quotient_and_remainder(x, y):\n",
    "    q = x // y\n",
    "    r = x % y\n",
    "    return (q,r)\n"
   ]
  },
  {
   "cell_type": "code",
   "execution_count": 65,
   "metadata": {},
   "outputs": [
    {
     "name": "stdout",
     "output_type": "stream",
     "text": [
      "(4, 3)\n"
     ]
    }
   ],
   "source": [
    "(quot, rem) = quotient_and_remainder(10,3)\n",
    "quot+=1\n",
    "rem+=2\n",
    "print(quot,rem)"
   ]
  },
  {
   "cell_type": "markdown",
   "metadata": {},
   "source": [
    "## 4.2 Lists\n",
    "\n",
    "* ordered sequence of information, accessible by index\n",
    "* a list is denoted by **square brackets, []**\n",
    "* a list contains elements\n",
    " * usually homogeneous (ie, all integers)\n",
    " * can contain mixed types (not common)\n",
    "* list elements can be changed so a list is **mutable**"
   ]
  },
  {
   "cell_type": "code",
   "execution_count": 68,
   "metadata": {},
   "outputs": [
    {
     "name": "stdout",
     "output_type": "stream",
     "text": [
      "red\n",
      "green\n"
     ]
    }
   ],
   "source": [
    "#empty list\n",
    "L0=[] #length equals to 0\n",
    "\n",
    "#List Index\n",
    "colors = ['red', 'blue', 'green']\n",
    "print colors[0]    ## red\n",
    "print colors[2]    ## green\n"
   ]
  },
  {
   "cell_type": "markdown",
   "metadata": {},
   "source": [
    "<img src='images/list_index.png' width='50%'>"
   ]
  },
  {
   "cell_type": "code",
   "execution_count": 78,
   "metadata": {},
   "outputs": [
    {
     "data": {
      "text/plain": [
       "7"
      ]
     },
     "execution_count": 78,
     "metadata": {},
     "output_type": "execute_result"
    }
   ],
   "source": [
    "#Common list\n",
    "L=[1,4,7,2]\n",
    "len(L)\n",
    "L[1:3]\n",
    "L[1]\n",
    "L[-1] #last element\n",
    "L[-2] #the last second element\n",
    "# L[1]=10\n",
    "# L"
   ]
  },
  {
   "cell_type": "code",
   "execution_count": 62,
   "metadata": {},
   "outputs": [],
   "source": [
    "#uncommon list\n",
    "L1=[2,5,[1,3,4],'a']\n",
    "#what is the length of L1???\n",
    "#len(L1)\n",
    "#L1[2] #give another list\n",
    "#L1[5] #cannot exceed its index limit"
   ]
  },
  {
   "cell_type": "markdown",
   "metadata": {},
   "source": [
    "### 4.2.1 Iterate over a list\n",
    "An example to iterate over a list:\n",
    "\n",
    "Suppose we want to sum up all value in the list L=[1,4,2,5,7], how do you write this loop?"
   ]
  },
  {
   "cell_type": "code",
   "execution_count": 65,
   "metadata": {},
   "outputs": [
    {
     "name": "stdout",
     "output_type": "stream",
     "text": [
      "19\n"
     ]
    }
   ],
   "source": [
    "#Regular way\n",
    "L=[1,4,2,5,7]\n",
    "total = 0\n",
    "for i in range(len(L)):\n",
    "    total += L[i]\n",
    "print total"
   ]
  },
  {
   "cell_type": "code",
   "execution_count": 67,
   "metadata": {},
   "outputs": [
    {
     "name": "stdout",
     "output_type": "stream",
     "text": [
      "19\n"
     ]
    }
   ],
   "source": [
    "#Iterating over a list:\n",
    "total = 0\n",
    "for i in L:\n",
    "    total += i\n",
    "print total\n",
    "#we actually could iterate over list elements directly."
   ]
  },
  {
   "cell_type": "markdown",
   "metadata": {},
   "source": [
    "> **Notice**\n",
    "* list elements are indexed 0 to len(L)-1\n",
    "* range(n) goes from 0 to n-1, but len=n-1+1=n"
   ]
  },
  {
   "cell_type": "markdown",
   "metadata": {},
   "source": [
    "### 4.2.2 OPERATIONS ON LISTS - append"
   ]
  },
  {
   "cell_type": "markdown",
   "metadata": {},
   "source": [
    "* add elements to end of list with L.append(element)\n",
    "* mutates the list!"
   ]
  },
  {
   "cell_type": "code",
   "execution_count": 70,
   "metadata": {},
   "outputs": [
    {
     "data": {
      "text/plain": [
       "[1, 4, 2, 5, 7, 10]"
      ]
     },
     "execution_count": 70,
     "metadata": {},
     "output_type": "execute_result"
    }
   ],
   "source": [
    "L=[1,4,2,5,7]\n",
    "L.append(10)\n",
    "L"
   ]
  },
  {
   "cell_type": "markdown",
   "metadata": {},
   "source": [
    "**what is the dot?** e.g. L.append(10)\n",
    "* lists are Python objects, everything in Python is an object\n",
    "* objects have methods and functions\n",
    "* access this information by object_name.do_something()"
   ]
  },
  {
   "cell_type": "markdown",
   "metadata": {},
   "source": [
    "### 4.2.3 OPERATIONS ON LISTS - concatenate\n",
    "\n",
    "To combine lists together use concatenation, + operator, to give you a new list"
   ]
  },
  {
   "cell_type": "code",
   "execution_count": 72,
   "metadata": {},
   "outputs": [
    {
     "data": {
      "text/plain": [
       "[1, 3, 5, 2, 4]"
      ]
     },
     "execution_count": 72,
     "metadata": {},
     "output_type": "execute_result"
    }
   ],
   "source": [
    "L1=[1,3,5]\n",
    "L2=[2,4]\n",
    "L3=L1+L2\n",
    "L3"
   ]
  },
  {
   "cell_type": "markdown",
   "metadata": {},
   "source": [
    "### 4.2.4 OPERATIONS ON LISTS - mutate\n",
    "\n",
    "mutate list with L.extend(some_list)"
   ]
  },
  {
   "cell_type": "code",
   "execution_count": 74,
   "metadata": {},
   "outputs": [
    {
     "data": {
      "text/plain": [
       "[1, 3, 5, 9, 11]"
      ]
     },
     "execution_count": 74,
     "metadata": {},
     "output_type": "execute_result"
    }
   ],
   "source": [
    "L1=[1,3,5]\n",
    "L1.extend([9,11]) #mutate L1 from [1,3,5] to [1,3,5,9,11]\n",
    "L1"
   ]
  },
  {
   "cell_type": "markdown",
   "metadata": {},
   "source": [
    "### 4.2.5 OPERATIONS ON LISTS - remove\n",
    "\n",
    "1. delete element at a specific index with **del(L[index])**\n",
    "2. remove element at end of list with **L.pop()**, returns the **removed element**\n",
    "3. remove a specific element with **L.remove(element)**\n",
    " * looks for the element and removes it\n",
    " * if element occurs multiple times, removes first occurrence\n",
    " * if element not in list, gives an error"
   ]
  },
  {
   "cell_type": "code",
   "execution_count": 75,
   "metadata": {},
   "outputs": [
    {
     "data": {
      "text/plain": [
       "[1, 5, 7, 9, 11]"
      ]
     },
     "execution_count": 75,
     "metadata": {},
     "output_type": "execute_result"
    }
   ],
   "source": [
    "L=[1,3,5,7,9,11]\n",
    "del(L[1])\n",
    "L"
   ]
  },
  {
   "cell_type": "code",
   "execution_count": 80,
   "metadata": {},
   "outputs": [
    {
     "data": {
      "text/plain": [
       "11"
      ]
     },
     "execution_count": 80,
     "metadata": {},
     "output_type": "execute_result"
    }
   ],
   "source": [
    "L=[1,3,5,7,9,11]\n",
    "L.pop()\n",
    "#L"
   ]
  },
  {
   "cell_type": "code",
   "execution_count": 83,
   "metadata": {},
   "outputs": [
    {
     "data": {
      "text/plain": [
       "[1, 3, 5, 7, 7, 9]"
      ]
     },
     "execution_count": 83,
     "metadata": {},
     "output_type": "execute_result"
    }
   ],
   "source": [
    "L=[1,3,5,7,7,7,9]\n",
    "L.remove(7)\n",
    "L"
   ]
  },
  {
   "cell_type": "markdown",
   "metadata": {},
   "source": [
    "> All above operations mutate the list"
   ]
  },
  {
   "cell_type": "markdown",
   "metadata": {},
   "source": [
    "### 4.2.6 OPERATIONS ON LISTS - Others\n",
    "\n",
    "1. sort() and sorted()\n",
    "2. reverse()\n",
    "3. check more: [List Operations](https://docs.python.org/2/tutorial/datastructures.html)"
   ]
  },
  {
   "cell_type": "code",
   "execution_count": 87,
   "metadata": {
    "scrolled": true
   },
   "outputs": [
    {
     "data": {
      "text/plain": [
       "[1, 2, 5, 8]"
      ]
     },
     "execution_count": 87,
     "metadata": {},
     "output_type": "execute_result"
    }
   ],
   "source": [
    "L=[8,1,5,2]\n",
    "sorted(L) #returns sorted list, does not mutate L\n",
    "# L.sort() #mutate L\n",
    "# L"
   ]
  },
  {
   "cell_type": "markdown",
   "metadata": {},
   "source": [
    "> Tips: \n",
    "1. Use L[:] to clone a list\n",
    "2. Use L[-int] to get the last ith element"
   ]
  },
  {
   "cell_type": "code",
   "execution_count": 93,
   "metadata": {},
   "outputs": [
    {
     "data": {
      "text/plain": [
       "[2, 5, 1]"
      ]
     },
     "execution_count": 93,
     "metadata": {},
     "output_type": "execute_result"
    }
   ],
   "source": [
    "L=[2,5,1]\n",
    "L_copy=L[:]\n",
    "L_copy"
   ]
  },
  {
   "cell_type": "markdown",
   "metadata": {},
   "source": [
    "### 4.2.7 LIST COMPREHENSIONS\n",
    "\n",
    "List comprehensions provide a concise way to create lists. It consists of brackets containing an expression followed by a for clause, then zero or more for or if clauses. \n",
    "\n",
    "The result will be a new list resulting from evaluating the expression in the context of the for and if clauses which follow it. \n",
    "\n",
    "For example, assume we want to create a list of squares, like:"
   ]
  },
  {
   "cell_type": "code",
   "execution_count": 2,
   "metadata": {},
   "outputs": [
    {
     "data": {
      "text/plain": [
       "[0, 1, 4, 9, 16, 25, 36, 49, 64, 81]"
      ]
     },
     "execution_count": 2,
     "metadata": {},
     "output_type": "execute_result"
    }
   ],
   "source": [
    "#Example 1\n",
    "squares = []\n",
    "for x in range(10):\n",
    "    squares.append(x**2)\n",
    "squares"
   ]
  },
  {
   "cell_type": "markdown",
   "metadata": {},
   "source": [
    "We can obtain the same result with List Comprehensions:"
   ]
  },
  {
   "cell_type": "code",
   "execution_count": 4,
   "metadata": {},
   "outputs": [
    {
     "data": {
      "text/plain": [
       "[0, 1, 4, 9, 16, 25, 36, 49, 64, 81]"
      ]
     },
     "execution_count": 4,
     "metadata": {},
     "output_type": "execute_result"
    }
   ],
   "source": [
    "#Example 1: continue\n",
    "squares = [x**2 for x in range(10)]\n",
    "squares"
   ]
  },
  {
   "cell_type": "markdown",
   "metadata": {},
   "source": [
    "Another example of List Comprehensions:"
   ]
  },
  {
   "cell_type": "code",
   "execution_count": null,
   "metadata": {},
   "outputs": [],
   "source": [
    "#Example 2\n",
    "[(x, y) for x in [1,2,3] for y in [3,1,4] if x != y]"
   ]
  },
  {
   "cell_type": "markdown",
   "metadata": {},
   "source": [
    "and its equivalent to:"
   ]
  },
  {
   "cell_type": "code",
   "execution_count": 5,
   "metadata": {},
   "outputs": [
    {
     "data": {
      "text/plain": [
       "[(1, 3), (1, 4), (2, 3), (2, 1), (2, 4), (3, 1), (3, 4)]"
      ]
     },
     "execution_count": 5,
     "metadata": {},
     "output_type": "execute_result"
    }
   ],
   "source": [
    "#Example 2: continue\n",
    "combs = []\n",
    "for x in [1,2,3]:\n",
    "    for y in [3,1,4]:\n",
    "        if x != y:\n",
    "            combs.append((x, y))\n",
    "combs"
   ]
  },
  {
   "cell_type": "code",
   "execution_count": 6,
   "metadata": {},
   "outputs": [
    {
     "data": {
      "text/plain": [
       "[(0, 0), (1, 1), (2, 4), (3, 9), (4, 16), (5, 25)]"
      ]
     },
     "execution_count": 6,
     "metadata": {},
     "output_type": "execute_result"
    }
   ],
   "source": [
    "#Example 3: create a list of 2-tuples like (number, square)\n",
    "#e.g.[(0, 0), (1, 1), (2, 4), (3, 9), (4, 16)]\n",
    "\n",
    "[(x, x**2) for x in range(6)] # the tuple must be parenthesized, otherwise an error is raised"
   ]
  },
  {
   "cell_type": "code",
   "execution_count": 7,
   "metadata": {},
   "outputs": [
    {
     "data": {
      "text/plain": [
       "[1, 2, 3, 4, 5, 6, 7, 8, 9]"
      ]
     },
     "execution_count": 7,
     "metadata": {},
     "output_type": "execute_result"
    }
   ],
   "source": [
    "#Example 4: flatten a list using two 'for'\n",
    "L=[[1,2],[3,4,5],[6,7,8,9]]\n",
    "[x for ele in L for x in ele]"
   ]
  },
  {
   "cell_type": "markdown",
   "metadata": {},
   "source": [
    "----------\n",
    "## Assignment: List Comprehensions"
   ]
  },
  {
   "cell_type": "markdown",
   "metadata": {},
   "source": [
    "### Problem 1: \n",
    "\n",
    "Suppose we have a list L=[-2,0,3,-1,4]. Please create a new list with the values doubled."
   ]
  },
  {
   "cell_type": "code",
   "execution_count": null,
   "metadata": {},
   "outputs": [],
   "source": [
    "L=[-2,0,3,-1,4]\n",
    "[x*2 for x in L]"
   ]
  },
  {
   "cell_type": "markdown",
   "metadata": {},
   "source": [
    "### Problem 2: \n",
    "\n",
    "Suppose we have a list L=[-2,0,3,-1,4]. Please filter the list to exclude negative numbers."
   ]
  },
  {
   "cell_type": "code",
   "execution_count": 9,
   "metadata": {},
   "outputs": [
    {
     "data": {
      "text/plain": [
       "[0, 3, 4]"
      ]
     },
     "execution_count": 9,
     "metadata": {},
     "output_type": "execute_result"
    }
   ],
   "source": [
    "L=[-2,0,3,-1,4]\n",
    "[x for x in L if x>=0]"
   ]
  },
  {
   "cell_type": "markdown",
   "metadata": {},
   "source": [
    "### Problem 3: \n",
    "\n",
    "Suppose we have a list L=[-2,0,3,-1,4]. Please get absolute values of all elements."
   ]
  },
  {
   "cell_type": "code",
   "execution_count": 10,
   "metadata": {},
   "outputs": [
    {
     "data": {
      "text/plain": [
       "[2, 0, 3, 1, 4]"
      ]
     },
     "execution_count": 10,
     "metadata": {},
     "output_type": "execute_result"
    }
   ],
   "source": [
    "L=[-2,0,3,-1,4]\n",
    "[abs(x) for x in L]"
   ]
  },
  {
   "cell_type": "markdown",
   "metadata": {},
   "source": [
    "### 4.2.7 LIST COMPREHENSIONS - Continue\n",
    "\n",
    "With list comprehensions, we could quickly create a m\\*n matrix in Python."
   ]
  },
  {
   "cell_type": "code",
   "execution_count": 15,
   "metadata": {},
   "outputs": [
    {
     "data": {
      "text/plain": [
       "[[1, 1, 1], [1, 1, 3], [1, 1, 1], [1, 1, 1], [1, 1, 1]]"
      ]
     },
     "execution_count": 15,
     "metadata": {},
     "output_type": "execute_result"
    }
   ],
   "source": [
    "# Creates a list containing 5 lists, each of 3 items, all set to 1\n",
    "m, n = 3, 5 #This is a 5*3 matrix.\n",
    "Matrix = [[1 for x in range(m)] for y in range(n)] \n",
    "Matrix\n",
    "\n",
    "# Matrix[1][2]=3\n",
    "# Matrix"
   ]
  },
  {
   "cell_type": "code",
   "execution_count": 13,
   "metadata": {},
   "outputs": [
    {
     "data": {
      "text/plain": [
       "[[1, 1, 1], [1, 1, 1], [1, 1, 1], [1, 1, 1], [1, 1, 1]]"
      ]
     },
     "execution_count": 13,
     "metadata": {},
     "output_type": "execute_result"
    }
   ],
   "source": [
    "#another concise way to create the 5*3 all-ones matrix\n",
    "Matrix = [[1]*3 for _ in range(5)] \n",
    "Matrix"
   ]
  },
  {
   "cell_type": "markdown",
   "metadata": {},
   "source": [
    "> The underscore \"_\" here ignoring the specific values. (so-called “I don’t care”)"
   ]
  },
  {
   "cell_type": "code",
   "execution_count": null,
   "metadata": {},
   "outputs": [],
   "source": [
    "ignoring the specific values. (so-called “I don’t care”)"
   ]
  },
  {
   "cell_type": "markdown",
   "metadata": {},
   "source": [
    "----------\n",
    "## Exercise: List "
   ]
  },
  {
   "cell_type": "markdown",
   "metadata": {},
   "source": [
    "### Problem 1: Climbing a staircase\n",
    "\n",
    "You are climbing a stair case. It takes n steps to reach to the top. \n",
    "Each time you can either climb 1 or 2 steps. In how many distinct ways can you climb to the top?\n",
    "\n",
    "<img src='../images/climbstaircase.png' width='50%'>\n"
   ]
  },
  {
   "cell_type": "code",
   "execution_count": 66,
   "metadata": {},
   "outputs": [
    {
     "data": {
      "text/plain": [
       "5"
      ]
     },
     "execution_count": 66,
     "metadata": {},
     "output_type": "execute_result"
    }
   ],
   "source": [
    "def climbStairs(n):\n",
    "    if n == 1:\n",
    "        return 1\n",
    "    \n",
    "    res = [0 for i in range(n)]\n",
    "    res[0], res[1] = 1, 2\n",
    "    \n",
    "    for i in range(2, n):\n",
    "        res[i] = res[i-1] + res[i-2]\n",
    "    \n",
    "    return res[-1]\n",
    "\n",
    "climbStairs(4)"
   ]
  },
  {
   "cell_type": "markdown",
   "metadata": {},
   "source": [
    "### Problem 2: Container With Most Water\n",
    "\n",
    "Each point at coordinate (i, ai) represents a bar end. Find two bars, which together with x-axis forms a container, such that the container contains the most water.\n",
    "\n",
    "<img src='../images/container.png' width='30%'>\n",
    "\n",
    "\n"
   ]
  },
  {
   "cell_type": "code",
   "execution_count": 16,
   "metadata": {},
   "outputs": [
    {
     "name": "stdout",
     "output_type": "stream",
     "text": [
      "4\n"
     ]
    }
   ],
   "source": [
    "def maxArea(height):\n",
    "    l, r = 0, len(height) - 1\n",
    "    water = 0\n",
    "    while l < r:\n",
    "        water = max(water, (r - l) * min(height[l], height[r]))\n",
    "        if height[l] < height[r]:\n",
    "            l += 1\n",
    "        else:\n",
    "            r -= 1\n",
    "    return water\n",
    "\n",
    "print(maxArea([1,2,1,4]))"
   ]
  },
  {
   "cell_type": "code",
   "execution_count": null,
   "metadata": {},
   "outputs": [],
   "source": []
  },
  {
   "cell_type": "markdown",
   "metadata": {},
   "source": [
    "## 4.3 Dictionaries (Maps)\n",
    "\n",
    "It is best to think of a dictionary as an unordered set of key: value pairs, with the requirement that the keys are unique (within one dictionary).\n",
    "\n",
    "* Another **mutable** date type.\n",
    "* Nice to use one data structure (no separate lists) and index item of interest directly.\n",
    "\n",
    "<img src='images/dictionary.png' width='60%'>"
   ]
  },
  {
   "cell_type": "markdown",
   "metadata": {},
   "source": [
    "If we use lists to store above information. We need to....\n",
    "\n",
    "* a\tseparate list for each item\t\n",
    "* each list\tmust have the same length\t\n",
    "* info stored across lists at same index, each index refers\tto info\tfor\ta different\titem.\t"
   ]
  },
  {
   "cell_type": "code",
   "execution_count": 21,
   "metadata": {},
   "outputs": [
    {
     "data": {
      "text/plain": [
       "('Butter', 2.59)"
      ]
     },
     "execution_count": 21,
     "metadata": {},
     "output_type": "execute_result"
    }
   ],
   "source": [
    "item_list=[\"Eggs\",\"Milk\",\"Cheese\",\"Yogurt\",\"Butter\",\"More Cheese\"]\n",
    "value_list=[2.59,3.19,4.80,1.35,2.59,6.19]\n",
    "\n",
    "def get_value(name,item_list, value_list):\n",
    "    i = item_list.index(name)\n",
    "    value = value_list[i]\n",
    "    return (name, value)\n",
    "\n",
    "get_value(\"Butter\",item_list,value_list)"
   ]
  },
  {
   "cell_type": "markdown",
   "metadata": {},
   "source": [
    "But it is very simple with help of Dictionary data type."
   ]
  },
  {
   "cell_type": "code",
   "execution_count": 22,
   "metadata": {},
   "outputs": [],
   "source": [
    "value = {\"Eggs\":2.59,\"Milk\":3.19,\"Cheese\":4.80,\"Yogurt\":1.35,\"Butter\":2.59,\"More Cheese\":6.19} \n",
    "#Braces {} represent dictionaries; Brackets [] are for lists; Parentheses () are for tuples."
   ]
  },
  {
   "cell_type": "code",
   "execution_count": 24,
   "metadata": {
    "scrolled": true
   },
   "outputs": [
    {
     "data": {
      "text/plain": [
       "2.59"
      ]
     },
     "execution_count": 24,
     "metadata": {},
     "output_type": "execute_result"
    }
   ],
   "source": [
    "value[\"Butter\"]"
   ]
  },
  {
   "cell_type": "markdown",
   "metadata": {},
   "source": [
    "### 4.3.1 Operations on Dictionaries"
   ]
  },
  {
   "cell_type": "code",
   "execution_count": 31,
   "metadata": {
    "scrolled": true
   },
   "outputs": [
    {
     "data": {
      "text/plain": [
       "{'Apple': 3.99,\n",
       " 'Butter': 2.59,\n",
       " 'Cheese': 4.8,\n",
       " 'Eggs': 2.59,\n",
       " 'Milk': 3.19,\n",
       " 'More Cheese': 6.19,\n",
       " 'Yogurt': 1.35}"
      ]
     },
     "execution_count": 31,
     "metadata": {},
     "output_type": "execute_result"
    }
   ],
   "source": [
    "#add an entry\n",
    "value['Apple'] = 3.99\n",
    "value"
   ]
  },
  {
   "cell_type": "code",
   "execution_count": 28,
   "metadata": {},
   "outputs": [
    {
     "data": {
      "text/plain": [
       "True"
      ]
     },
     "execution_count": 28,
     "metadata": {},
     "output_type": "execute_result"
    }
   ],
   "source": [
    "#test if key in dicSonary\n",
    "\n",
    "\"Orange\" in value\n",
    "\"Milk\" in value"
   ]
  },
  {
   "cell_type": "code",
   "execution_count": 32,
   "metadata": {},
   "outputs": [
    {
     "data": {
      "text/plain": [
       "{'Butter': 2.59,\n",
       " 'Cheese': 4.8,\n",
       " 'Eggs': 2.59,\n",
       " 'Milk': 3.19,\n",
       " 'More Cheese': 6.19,\n",
       " 'Yogurt': 1.35}"
      ]
     },
     "execution_count": 32,
     "metadata": {},
     "output_type": "execute_result"
    }
   ],
   "source": [
    "#delete entry\n",
    "del(value['Apple'])\n",
    "value"
   ]
  },
  {
   "cell_type": "code",
   "execution_count": 42,
   "metadata": {},
   "outputs": [
    {
     "data": {
      "text/plain": [
       "['Butter', 'Cheese', 'Eggs', 'More Cheese', 'Yogurt', 'Milk']"
      ]
     },
     "execution_count": 42,
     "metadata": {},
     "output_type": "execute_result"
    }
   ],
   "source": [
    "#get all keys (but order not promised)\n",
    "value.keys()"
   ]
  },
  {
   "cell_type": "code",
   "execution_count": 34,
   "metadata": {},
   "outputs": [
    {
     "data": {
      "text/plain": [
       "[2.59, 4.8, 2.59, 6.19, 1.35, 3.19]"
      ]
     },
     "execution_count": 34,
     "metadata": {},
     "output_type": "execute_result"
    }
   ],
   "source": [
    "#get all values (but order not promised)\n",
    "value.values()"
   ]
  },
  {
   "cell_type": "markdown",
   "metadata": {},
   "source": [
    "> Keys and Values in Dictionaries (But orders are not promised!):\n",
    "1. Keys:\n",
    " * must be unique\n",
    " * immutable (number, string, tuple, bool)\n",
    "2. Values:\n",
    " * mutable\n",
    " * can be duplicates\t\n",
    " * can be number, string, lists, even other\tdictionaries!\n"
   ]
  },
  {
   "cell_type": "code",
   "execution_count": 41,
   "metadata": {
    "scrolled": true
   },
   "outputs": [
    {
     "data": {
      "text/plain": [
       "{4: {1: 0}, 'const': [3.14, 2.7, 8.44], (1, 3): 'twelve'}"
      ]
     },
     "execution_count": 41,
     "metadata": {},
     "output_type": "execute_result"
    }
   ],
   "source": [
    "#An acceptable dictionary\n",
    "d = {4:{1:0}, (1,3):\"twelve\", 'const':[3.14,2.7,8.44]}\n",
    "type(d)\n",
    "dd = {4:{1:0}, (1,3):\"twelve\", 'const':[3.14,2.7,8.44]}d = {4:{1:0}, (1,3):\"twelve\", 'const':[3.14,2.7,8.44]}d = {4:{1:0}, (1,3):\"twelve\", 'const':[3.14,2.7,8.44]}"
   ]
  },
  {
   "cell_type": "markdown",
   "metadata": {},
   "source": [
    "### 4.3.2 Lists VS Dictionaries"
   ]
  },
  {
   "cell_type": "markdown",
   "metadata": {},
   "source": [
    "#### Lists:\n",
    "* Ordered sequence of elements\n",
    "* looked up elements by integer index\n",
    "* indices have an order\n",
    "* index is integer"
   ]
  },
  {
   "cell_type": "markdown",
   "metadata": {},
   "source": [
    "#### Dictionaries:\n",
    "* matches \"key\" to \"value\"\n",
    "* no order is guaranteed\n",
    "* keys can be any immutable type"
   ]
  },
  {
   "cell_type": "markdown",
   "metadata": {},
   "source": [
    "----------\n",
    "## Assignment: Dictionaries "
   ]
  },
  {
   "cell_type": "markdown",
   "metadata": {},
   "source": [
    "### Problem 1:\n",
    "\n",
    "<img src='images/songlyics.png' width='50%'>\n",
    "\n",
    "Create dictionaries to count the frequencies of words in the given song lyrics.  \n"
   ]
  },
  {
   "cell_type": "code",
   "execution_count": 42,
   "metadata": {},
   "outputs": [],
   "source": [
    "when_we_were_young=[\n",
    "    \"everybody\", \"loves\",\"the\", \"things\",\"you\",\"do\",\n",
    "    \"from\", \"the\", \"way\", \"you\", \"talk\",\n",
    "    \"to\", \"the\", \"way\", \"you\", \"move\",\n",
    "    \"everybody\", \"here\", \"is\", \"watching\", \"you\",\n",
    "    \"cause\", \"you\", \"feel\",\"like\", \"home\",\n",
    "    \"you\",\"are\",\"like\",\"a\",\"dream\", \"come\" , \"true\",\n",
    "    \"but\", \"if\", \"by\", \"chance\", \"you\",\"are\", \"here\", \"alone\",\n",
    "    \"can\", \"I\" ,\"have\" ,\"a\",\"moment\",\n",
    "    \"before\", \"I\", \"go\",\n",
    "    \"cause\", \"I\",\"have\", \"been\",\"by\", \"myself\" ,\"all\" ,\"night\" ,\"long\",\n",
    "    \"hoping\",\"you\",\"are\", \"someone\", \"I\", \"used\" ,\"to\",\"know\",  \n",
    "    \"you\", \"look\",\"like\",\"a\",\"movie\",\n",
    "    \"you\",\"sound\",\"like\",\"a\",\"song\",\n",
    "    \"my\",\"god\",\"this\",\"reminds\",\"me\",\n",
    "    \"of\",\"when\",\"we\",\"were\",\"young\"]"
   ]
  },
  {
   "cell_type": "code",
   "execution_count": 43,
   "metadata": {},
   "outputs": [],
   "source": [
    "def lyrics_to_frequencies(lyrics):\n",
    "\n",
    "#     Input: lyrics, a list\n",
    "#     Returns myDict, a dictionary, with word and its count\n",
    "\n",
    "    myDict = {}\n",
    "    for word in lyrics:\n",
    "        if word in myDict:\n",
    "            myDict[word] += 1\n",
    "        else:\n",
    "            myDict[word] = 1\n",
    "    return myDict\n",
    "           "
   ]
  },
  {
   "cell_type": "code",
   "execution_count": 22,
   "metadata": {
    "scrolled": false
   },
   "outputs": [
    {
     "data": {
      "text/plain": [
       "{'I': 4,\n",
       " 'a': 4,\n",
       " 'all': 1,\n",
       " 'alone': 1,\n",
       " 'are': 3,\n",
       " 'been': 1,\n",
       " 'before': 1,\n",
       " 'but': 1,\n",
       " 'by': 2,\n",
       " 'can': 1,\n",
       " 'cause': 2,\n",
       " 'chance': 1,\n",
       " 'come': 1,\n",
       " 'do': 1,\n",
       " 'dream': 1,\n",
       " 'everybody': 2,\n",
       " 'feel': 1,\n",
       " 'from': 1,\n",
       " 'go': 1,\n",
       " 'god': 1,\n",
       " 'have': 2,\n",
       " 'here': 2,\n",
       " 'home': 1,\n",
       " 'hoping': 1,\n",
       " 'if': 1,\n",
       " 'is': 1,\n",
       " 'know': 1,\n",
       " 'like': 4,\n",
       " 'long': 1,\n",
       " 'look': 1,\n",
       " 'loves': 1,\n",
       " 'me': 1,\n",
       " 'moment': 1,\n",
       " 'move': 1,\n",
       " 'movie': 1,\n",
       " 'my': 1,\n",
       " 'myself': 1,\n",
       " 'night': 1,\n",
       " 'of': 1,\n",
       " 'reminds': 1,\n",
       " 'someone': 1,\n",
       " 'song': 1,\n",
       " 'sound': 1,\n",
       " 'talk': 1,\n",
       " 'the': 3,\n",
       " 'things': 1,\n",
       " 'this': 1,\n",
       " 'to': 2,\n",
       " 'true': 1,\n",
       " 'used': 1,\n",
       " 'watching': 1,\n",
       " 'way': 2,\n",
       " 'we': 1,\n",
       " 'were': 1,\n",
       " 'when': 1,\n",
       " 'you': 10,\n",
       " 'young': 1}"
      ]
     },
     "execution_count": 22,
     "metadata": {},
     "output_type": "execute_result"
    }
   ],
   "source": [
    "# Call the function\n",
    "adele=lyrics_to_frequencies(when_we_were_young)\n",
    "adele"
   ]
  },
  {
   "cell_type": "markdown",
   "metadata": {},
   "source": [
    "### Problem 2:\n",
    "\n",
    "Find words that occur the most and how many times.\n",
    "\n",
    ">Hints:\n",
    "* use a list, in case there is more than one word.\n",
    "* return a tuple (list,int) for (words_list, highest_freq).\n",
    "\n"
   ]
  },
  {
   "cell_type": "code",
   "execution_count": 44,
   "metadata": {},
   "outputs": [],
   "source": [
    "def most_common_words(freqs):\n",
    "\n",
    "#     Input: lyrics_to_frequencies, a count dictionary\n",
    "#     Returns (words, best), a tuple for (words_list, highest_freq)\n",
    "    \n",
    "    values = freqs.values()\n",
    "    best = max(values)\n",
    "    words = []\n",
    "    \n",
    "    for k in freqs:\n",
    "        if freqs[k] == best:\n",
    "            words.append(k)\n",
    "    return (words, best)   "
   ]
  },
  {
   "cell_type": "code",
   "execution_count": 45,
   "metadata": {
    "scrolled": true
   },
   "outputs": [
    {
     "data": {
      "text/plain": [
       "(['you'], 10)"
      ]
     },
     "execution_count": 45,
     "metadata": {},
     "output_type": "execute_result"
    }
   ],
   "source": [
    "# Call the function\n",
    "adele=lyrics_to_frequencies(when_we_were_young)\n",
    "\n",
    "most_common_words(adele)"
   ]
  },
  {
   "cell_type": "markdown",
   "metadata": {},
   "source": [
    "### Problem 3: \n",
    "Find the words that\toccur at least X times.\n",
    "\n",
    "* let user choose “at least\tX times”, so allow as parameter\t\n",
    "* return a list of tuples, each\ttuple is a (list, int), containing the list of words ordered by their frequency.\n"
   ]
  },
  {
   "cell_type": "code",
   "execution_count": 46,
   "metadata": {},
   "outputs": [],
   "source": [
    "def words_often(freqs, minTimes):\n",
    "    result = []\n",
    "    done = False\n",
    "    while not done:\n",
    "        temp = most_common_words(freqs)\n",
    "\n",
    "        if temp[1] >= minTimes:\n",
    "            result.append(temp)\n",
    "            for w in temp[0]:#      \"\"\" \n",
    "#     Input: lyrics_to_frequencies, a count dictionary\n",
    "#     Returns (words, best), a tuple for (words_list, highest_freq)\n",
    "#      \"\"\" \n",
    "\n",
    "                del(freqs[w])  #remove word from dict\n",
    "        else:\n",
    "            done = True\n",
    "    return result\n"
   ]
  },
  {
   "cell_type": "code",
   "execution_count": 47,
   "metadata": {
    "scrolled": true
   },
   "outputs": [
    {
     "data": {
      "text/plain": [
       "[(['you'], 10), (['I', 'a', 'like'], 4), (['are', 'the'], 3)]"
      ]
     },
     "execution_count": 47,
     "metadata": {},
     "output_type": "execute_result"
    }
   ],
   "source": [
    "# Call the function\n",
    "words_often(adele, 3)"
   ]
  },
  {
   "cell_type": "markdown",
   "metadata": {},
   "source": [
    "----------\n",
    "## Assignment: Lists and Function "
   ]
  },
  {
   "cell_type": "markdown",
   "metadata": {},
   "source": [
    "### Problem: \n",
    "\n",
    "Given a set of non-overlapping intervals, insert a new interval into the intervals (merge if necessary).\n",
    "\n",
    "You may assume that the intervals were initially sorted according to their start times.\n",
    "\n",
    "#### Example 1:\n",
    "\n",
    "Given intervals [1,3],[6,9], insert and merge [2,5] in as [1,5],[6,9]."
   ]
  },
  {
   "cell_type": "code",
   "execution_count": 55,
   "metadata": {},
   "outputs": [],
   "source": [
    "# Definition for an interval.\n",
    "class Interval(object):\n",
    "    def __init__(self, s=0, e=0):\n",
    "        self.start = s\n",
    "        self.end = e\n"
   ]
  },
  {
   "cell_type": "code",
   "execution_count": 54,
   "metadata": {},
   "outputs": [
    {
     "data": {
      "text/plain": [
       "3"
      ]
     },
     "execution_count": 54,
     "metadata": {},
     "output_type": "execute_result"
    }
   ],
   "source": [
    "Interval(1,3).end"
   ]
  },
  {
   "cell_type": "code",
   "execution_count": 56,
   "metadata": {},
   "outputs": [],
   "source": [
    "def insert(intervals, newInterval):\n",
    "    s, e = newInterval.start, newInterval.end\n",
    "    left, right = [], []\n",
    "    \n",
    "    for i in intervals:\n",
    "        if i.end < s:\n",
    "            left += i\n",
    "            \n",
    "        elif i.start > e:\n",
    "            right += i\n",
    "            \n",
    "        else:\n",
    "            s = min(s, i.start)\n",
    "            e = max(e, i.end)\n",
    "            \n",
    "    return left + [Interval(s, e)] + right"
   ]
  },
  {
   "cell_type": "code",
   "execution_count": 58,
   "metadata": {},
   "outputs": [
    {
     "data": {
      "text/plain": [
       "<__main__.Interval at 0x110cb2d50>"
      ]
     },
     "execution_count": 58,
     "metadata": {},
     "output_type": "execute_result"
    }
   ],
   "source": [
    "insert([Interval(1,3),Interval(6,9)],Interval(0,8))"
   ]
  },
  {
   "cell_type": "code",
   "execution_count": null,
   "metadata": {},
   "outputs": [],
   "source": []
  }
 ],
 "metadata": {
  "kernelspec": {
   "display_name": "Python 2",
   "language": "python",
   "name": "python2"
  },
  "language_info": {
   "codemirror_mode": {
    "name": "ipython",
    "version": 2
   },
   "file_extension": ".py",
   "mimetype": "text/x-python",
   "name": "python",
   "nbconvert_exporter": "python",
   "pygments_lexer": "ipython2",
   "version": "2.7.13"
  }
 },
 "nbformat": 4,
 "nbformat_minor": 2
}

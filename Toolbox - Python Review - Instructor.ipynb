{
 "cells": [
  {
   "cell_type": "markdown",
   "metadata": {},
   "source": [
    "-------------\n",
    "<h1 align='center'> Data Science Toolbox: Python Review </h1>\n",
    "\n",
    "<center align=\"left\"> Developed by: </center>\n",
    "<center align=\"left\"> WeCloudData Academy </center>\n",
    "<img src='images/wcd_logo.png' width='50%'>\n",
    "\n",
    "\n",
    "<p style=\"text-align: center;\"> \n",
    "    <center><h3>Manipulating Tweets with Python</h3> <br>\n",
    "    1. File Handling <br>\n",
    "    2. Strings <br>\n",
    "    3. For loop <br>\n",
    "    4. List & List comprehension <br>\n",
    "    5. Dictionary (wordcount)  \n",
    "    6. Project: Web Scraping\n",
    "    </center>\n",
    "</p>\n",
    "\n",
    "\n",
    "----------"
   ]
  },
  {
   "cell_type": "markdown",
   "metadata": {},
   "source": [
    "# 1. Python File Handling\n",
    "Whatever analysis you do, the first step is to access the data. The data can be opened from a file, read from a database or created programmatically. In this exercise, we will learn how to read data from a file and write data to a file. \n",
    "\n",
    "* The `open()` function opens and returns a file handle that can be used to read or write a file in the usual way. \n",
    "* The code **`f = open('filepath/filename', 'r')`** opens the file into the variable **`f`**, ready for reading operations, and use **`f.close()`** when finished. \n",
    "  * 'r' when the file will only be read\n",
    "  * 'w' for only writing (an existing file with the same name will be erased)\n",
    "  * 'a' opens the file for appending; any data written to the file is automatically added to the end. \n",
    "  * 'r+' opens the file for both reading and writing.\n",
    "  * 'b' binary mode\n",
    "  * The special mode 'rU' is the \"Universal\" option for text files where it's smart about converting different line-endings so they always come through as a simple '\\n'. "
   ]
  },
  {
   "cell_type": "markdown",
   "metadata": {},
   "source": [
    "##  1.1 Read File One Line At a Time\n"
   ]
  },
  {
   "cell_type": "code",
   "execution_count": null,
   "metadata": {
    "collapsed": true
   },
   "outputs": [],
   "source": []
  },
  {
   "cell_type": "code",
   "execution_count": 1,
   "metadata": {},
   "outputs": [],
   "source": [
    "# Read File One Line At a Time\n",
    "\n",
    "filename = './data/full_text_small.txt'\n",
    "\n",
    "f = open(filename, 'r', encoding=\"latin-1\")      # open the file for read"
   ]
  },
  {
   "cell_type": "code",
   "execution_count": 3,
   "metadata": {},
   "outputs": [
    {
     "name": "stdout",
     "output_type": "stream",
     "text": [
      "USER_79321756\t2010-03-03T04:15:26\tÃÂT: 47.528139,-122.197916\t47.528139\t-122.197916\tRT @USER_2ff4faca: IF SHE DO IT 1 MORE TIME......IMA KNOCK HER DAMN KOOFIE OFF.....ON MY MOMMA&gt;&gt;haha. #cutthatout\n",
      "\n",
      "USER_79321756\t2010-03-03T04:55:32\tÃÂT: 47.528139,-122.197916\t47.528139\t-122.197916\t@USER_77a4822d @USER_2ff4faca okay:) lol. Saying ok to both of yall about to different things!:*\n",
      "\n",
      "USER_79321756\t2010-03-03T05:13:34\tÃÂT: 47.528139,-122.197916\t47.528139\t-122.197916\tRT @USER_5d4d777a: YOURE A FAG FOR GETTING IN THE MIDDLE OF THIS @USER_ab059bdc WHO THE FUCK ARE YOU ? A FUCKING NOBODY !!!!&gt;&gt;Lol! Dayum! Aye!\n",
      "\n",
      "USER_79321756\t2010-03-03T05:28:02\tÃÂT: 47.528139,-122.197916\t47.528139\t-122.197916\t@USER_77a4822d yea ok..well answer that cheap as Sweden phone you came up on when I call.\n",
      "\n",
      "USER_79321756\t2010-03-03T05:56:13\tÃÂT: 47.528139,-122.197916\t47.528139\t-122.197916\tA sprite can disappear in her mouth - lil kim hmmmmm the can not the bottle right?\n",
      "\n",
      "USER_79321756\t2010-03-03T16:52:44\tÃÂT: 47.528139,-122.197916\t47.528139\t-122.197916\tLmao! I still get txt when AJ tweets before they even post (mistake) ha. And the one I just got has me dyin! @USER_a5b463b2 what's ur issue!\n",
      "\n",
      "USER_79321756\t2010-03-03T16:57:24\tÃÂT: 47.528139,-122.197916\t47.528139\t-122.197916\tAlright twitters tryna take me over!\n",
      "\n",
      "USER_79321756\t2010-03-03T20:20:40\tÃÂT: 47.528139,-122.197916\t47.528139\t-122.197916\tJust got to work. Got my pizza bagel and my raspberry iced tea:). Pulling up my systems..interview not til 2. I just wanna get it done!:D\n",
      "\n",
      "USER_79321756\t2010-03-03T23:23:33\tÃÂT: 47.528139,-122.197916\t47.528139\t-122.197916\tJust got a txt from my cousin! Yes! So happy for you @USER_a9fe21e9 let's get it!\n",
      "\n",
      "USER_79321756\t2010-03-03T23:37:36\tÃÂT: 47.528139,-122.197916\t47.528139\t-122.197916\tWhy is this woman in the bathroom everytime I'm in the bathroom..!? Stinkn up allll the stalls! Ha.\n",
      "\n",
      "USER_79321756\t2010-03-04T01:32:24\tÃÂT: 47.528139,-122.197916\t47.528139\t-122.197916\t@USER_d5d93fec shit they everywhere..\n",
      "\n",
      "USER_79321756\t2010-03-04T01:55:55\tÃÂT: 47.528139,-122.197916\t47.528139\t-122.197916\tRT @USER_dc5e5498: Drop and give me 50....\n",
      "\n",
      "USER_79321756\t2010-03-04T05:09:29\tÃÂT: 47.528139,-122.197916\t47.528139\t-122.197916\tI said u got a swisher from redmond!? He said nah kirkland! Lol..ooooooooOkay!\n",
      "\n",
      "USER_79321756\t2010-03-04T05:57:35\tÃÂT: 47.528139,-122.197916\t47.528139\t-122.197916\tLmao!:) havin a good ol time after work! Unexpected! #goodtimes\n",
      "\n",
      "USER_79321756\t2010-03-04T06:00:09\tÃÂT: 47.528139,-122.197916\t47.528139\t-122.197916\tRT @USER_d5d93fec: #letsbereal .. No seriously, #letsbereal&gt;&gt;lol. Don't start.\n",
      "\n",
      "USER_79321756\t2010-03-04T06:00:37\tÃÂT: 47.528139,-122.197916\t47.528139\t-122.197916\tOn my way to get @USER_60939380 yeee! She want some of this strawberry! Sexy!\n",
      "\n",
      "USER_79321756\t2010-03-04T06:04:49\tÃÂT: 47.528139,-122.197916\t47.528139\t-122.197916\tMake sure ya frisk me good..check my panties and my bra..\n",
      "\n",
      "USER_79321756\t2010-03-04T06:15:01\tÃÂT: 47.528139,-122.197916\t47.528139\t-122.197916\tRT @USER_d5d93fec: RT @USER_79321756: RT @USER_d5d93fec: Man I don't feel like gettin up &gt;&gt;just take a nap.--no I can do this&gt;&gt;Lol. Okay.\n",
      "\n",
      "USER_79321756\t2010-03-04T06:43:31\tÃÂT: 47.528139,-122.197916\t47.528139\t-122.197916\tRidin.\n",
      "\n",
      "USER_79321756\t2010-03-04T07:12:13\tÃÂT: 47.528139,-122.197916\t47.528139\t-122.197916\tOh I'm late\n",
      "\n",
      "USER_79321756\t2010-03-04T07:12:22\tÃÂT: 47.528139,-122.197916\t47.528139\t-122.197916\tHa just got home\n",
      "\n",
      "USER_79321756\t2010-03-04T22:20:55\tÃÂT: 47.528139,-122.197916\t47.528139\t-122.197916\tHey @USER_620cd4b9 I know I'm hella late but this is my first twEet of the day so feel special:). Lol. Hope your having a good day!\n",
      "\n",
      "USER_79321756\t2010-03-04T22:28:43\tÃÂT: 47.528139,-122.197916\t47.528139\t-122.197916\tMy phones been dead for all day. Got some txts and vms. My guys from work came through! Lovin my life for da most part:)! #thankful\n",
      "\n",
      "USER_79321756\t2010-03-04T22:35:47\tÃÂT: 47.528139,-122.197916\t47.528139\t-122.197916\tRT @USER_620cd4b9: @USER_79321756 I will boo, I'll just jump on her LOL&gt;&gt;k promise:(\n",
      "\n",
      "USER_79321756\t2010-03-05T00:30:27\tÃÂT: 47.528139,-122.197916\t47.528139\t-122.197916\tBout to check my work email again. Funn we had to do shift bids and today we got the results but I'm off..co workers hitn me to tell me\n",
      "\n",
      "USER_79321756\t2010-03-05T01:03:13\tÃÂT: 47.528139,-122.197916\t47.528139\t-122.197916\tYeeeee founf my letter. Now waiting for this phone call. I need some good news asap. Thinkin bout ladies night tonight..its been a while.\n",
      "\n",
      "USER_79321756\t2010-03-05T01:38:16\tÃÂT: 47.528139,-122.197916\t47.528139\t-122.197916\t#LetsBeReal You miss me nigga! Lol.\n",
      "\n",
      "USER_79321756\t2010-03-05T01:44:12\tÃÂT: 47.528139,-122.197916\t47.528139\t-122.197916\tI had a mimosa earlier:) and thought about @USER_dc5e5498 @USER_d35ae058\n",
      "\n",
      "USER_79321756\t2010-03-05T01:58:00\tÃÂT: 47.528139,-122.197916\t47.528139\t-122.197916\tI'm really doing good. Ima stick to this. Well ima try my best. And I really am going to TRY. Not just say I'm tryin..\n",
      "\n",
      "USER_79321756\t2010-03-05T02:10:02\tÃÂT: 47.528139,-122.197916\t47.528139\t-122.197916\tRT @USER_642c9c1b: RT @USER_9bc2644b: out of line. Ã¢ÂÂ¢ Very\n",
      "\n",
      "USER_79321756\t2010-03-05T02:29:20\tÃÂT: 47.528139,-122.197916\t47.528139\t-122.197916\tRT @USER_3914673e: I have no damn discipline.&gt;&gt;Lol. #confess\n",
      "\n",
      "USER_79321756\t2010-03-05T02:47:52\tÃÂT: 47.528139,-122.197916\t47.528139\t-122.197916\tRT @USER_4cecd527: @USER_79321756 haha you're stupid...&gt;&gt;Nope I'm smart:)\n",
      "\n",
      "USER_79321756\t2010-03-05T04:48:05\tÃÂT: 47.528139,-122.197916\t47.528139\t-122.197916\tJust talkin too for real. Ha.\n",
      "\n",
      "USER_79321756\t2010-03-05T05:19:34\tÃÂT: 47.528139,-122.197916\t47.528139\t-122.197916\tRegardless of the kind of relationship you and your parents have they recognize you..mines are both proud of me..and I will keep that goin.\n",
      "\n",
      "USER_79321756\t2010-03-05T05:19:48\tÃÂT: 47.528139,-122.197916\t47.528139\t-122.197916\tAm I proud of both of them? No. Maybe 1 of em. Ha.\n",
      "\n",
      "USER_79321756\t2010-03-05T05:42:06\tÃÂT: 47.528139,-122.197916\t47.528139\t-122.197916\tWaiting for my lil bro to get home..this guy is spoiled. After wrestling practice he had his god mom take him to red robins like moms does..\n",
      "\n",
      "USER_79321756\t2010-03-05T05:57:16\tÃÂT: 47.528139,-122.197916\t47.528139\t-122.197916\t@USER_920f4fcd haha as you are to me!\n",
      "\n",
      "USER_79321756\t2010-03-05T07:10:00\tÃÂT: 47.528139,-122.197916\t47.528139\t-122.197916\tRT @USER_d5d93fec: She hates PORK @USER_621b922f hahahahaha\n",
      "\n",
      "USER_79321756\t2010-03-05T07:33:45\tÃÂT: 47.528139,-122.197916\t47.528139\t-122.197916\tNigga did I eat today?! Lol. - I wanna watch that katt.\n",
      "\n",
      "USER_79321756\t2010-03-05T07:57:25\tÃÂT: 47.528139,-122.197916\t47.528139\t-122.197916\tAll my bitches love me..all my all my bitches love me..\n",
      "\n",
      "USER_79321756\t2010-03-05T07:58:56\tÃÂT: 47.528139,-122.197916\t47.528139\t-122.197916\t@USER_2c8fc9a4 boy stop. Lol.\n",
      "\n",
      "USER_79321756\t2010-03-05T07:59:39\tÃÂT: 47.528139,-122.197916\t47.528139\t-122.197916\tRT @USER_dc5e5498: @USER_79321756 so your trying to say im pressed. #SuperTweeter ?? lmao hahah&gt;&gt;Lol. I'd rather get em on twitter only. Lol.\n",
      "\n",
      "USER_79321756\t2010-03-05T08:31:59\tÃÂT: 47.528139,-122.197916\t47.528139\t-122.197916\t@USER_2c8fc9a4 ...(Rollin my neck) don't even know da flavor!\n",
      "\n",
      "USER_79321756\t2010-03-05T16:24:15\tÃÂT: 47.528139,-122.197916\t47.528139\t-122.197916\t#FF those closest 2me: @USER_60939380 @USER_77a4822d @USER_2ff4faca @USER_d35ae058 @USER_4cf4c347 @USER_e794c52b @USER_d6d5e1bc @USER_6a8ee939 @USER_a9fe21e9\n",
      "\n",
      "USER_79321756\t2010-03-05T16:44:37\tÃÂT: 47.528139,-122.197916\t47.528139\t-122.197916\t#FF @USER_719853c2 cause everybody who knows me know he's my favorite! Since I was. Baby! \"You can learn from a baby\"! Lol. Yup. He said it..\n",
      "\n",
      "USER_79321756\t2010-03-05T16:45:56\tÃÂT: 47.528139,-122.197916\t47.528139\t-122.197916\tTime to go..walkn out the dooe to handle some major family bi cause we do this.\n",
      "\n",
      "USER_79321756\t2010-03-05T16:50:55\tÃÂT: 47.528139,-122.197916\t47.528139\t-122.197916\tOh damn it! I almost forgot! I'm taking my guy out top lunch for his bday later! I really need to get things rollin!\n",
      "\n",
      "USER_79321756\t2010-03-05T16:54:08\tÃÂT: 47.528139,-122.197916\t47.528139\t-122.197916\t#FF Peppers and Salt..lol aka the new boys :) Jk. @USER_62abd48d @USER_9763f55c\n",
      "\n",
      "USER_79321756\t2010-03-05T16:58:14\tÃÂT: 47.528139,-122.197916\t47.528139\t-122.197916\tRT @USER_620cd4b9: #FF @USER_79321756 just as crazy as she wanna be and be on that subliminal tweet game :)&gt;&gt;Lol ! Whatever! Haha.\n",
      "\n"
     ]
    }
   ],
   "source": [
    "for line in f:\n",
    "    print(line)"
   ]
  },
  {
   "cell_type": "code",
   "execution_count": 2,
   "metadata": {},
   "outputs": [
    {
     "name": "stdout",
     "output_type": "stream",
     "text": [
      "USER_79321756\t2010-03-03T04:15:26\tÃÂT: 47.528139,-122.197916\t47.528139\t-122.197916\tRT @USER_2ff4faca: IF SHE DO IT 1 MORE TIME......IMA KNOCK HER DAMN KOOFIE OFF.....ON MY MOMMA&gt;&gt;haha. #cutthatout\n",
      "\n",
      "USER_79321756\t2010-03-03T04:55:32\tÃÂT: 47.528139,-122.197916\t47.528139\t-122.197916\t@USER_77a4822d @USER_2ff4faca okay:) lol. Saying ok to both of yall about to different things!:*\n",
      "\n",
      "USER_79321756\t2010-03-03T05:13:34\tÃÂT: 47.528139,-122.197916\t47.528139\t-122.197916\tRT @USER_5d4d777a: YOURE A FAG FOR GETTING IN THE MIDDLE OF THIS @USER_ab059bdc WHO THE FUCK ARE YOU ? A FUCKING NOBODY !!!!&gt;&gt;Lol! Dayum! Aye!\n",
      "\n",
      "USER_79321756\t2010-03-03T05:28:02\tÃÂT: 47.528139,-122.197916\t47.528139\t-122.197916\t@USER_77a4822d yea ok..well answer that cheap as Sweden phone you came up on when I call.\n",
      "\n"
     ]
    }
   ],
   "source": [
    "# Read File One Line At a Time\n",
    "\n",
    "filename = './data/full_text_small.txt'\n",
    "\n",
    "f = open(filename, 'r', encoding=\"latin-1\")      # open the file for read\n",
    "\n",
    "nrows = 0\n",
    "for line in f:               # read into memory one line at a time, will never run out of memory!!!\n",
    "    nrows += 1\n",
    "    if nrows < 5:\n",
    "        print(line)\n",
    "\n",
    "f.close()                    # close the file"
   ]
  },
  {
   "cell_type": "markdown",
   "metadata": {},
   "source": [
    "### $\\Delta$ Exercise 1.1: Print the first 5 rows "
   ]
  },
  {
   "cell_type": "code",
   "execution_count": 3,
   "metadata": {},
   "outputs": [],
   "source": [
    "# Read File One Line At a Time\n",
    "\n",
    "filename = './data/full_text_small.txt'\n",
    "\n",
    "f = open(filename, 'r', encoding=\"latin-1\")      # open the file for read\n",
    "\n",
    "###############################\n",
    "# Insert your code block here\n",
    "###############################\n",
    "\n",
    "f.close()                    # close the file"
   ]
  },
  {
   "cell_type": "code",
   "execution_count": null,
   "metadata": {
    "collapsed": true
   },
   "outputs": [],
   "source": []
  },
  {
   "cell_type": "markdown",
   "metadata": {},
   "source": [
    "## 1.2 Read File into Memory as a List"
   ]
  },
  {
   "cell_type": "code",
   "execution_count": 4,
   "metadata": {
    "collapsed": true
   },
   "outputs": [],
   "source": [
    "import sys\n",
    "\n",
    "filename_twitter = './data/full_text_small.txt'\n",
    "\n",
    "f = open(filename_twitter, 'r', encoding='latin-1')     \n",
    "lines = f.readlines()"
   ]
  },
  {
   "cell_type": "code",
   "execution_count": 5,
   "metadata": {},
   "outputs": [
    {
     "data": {
      "text/plain": [
       "list"
      ]
     },
     "execution_count": 5,
     "metadata": {},
     "output_type": "execute_result"
    }
   ],
   "source": [
    "type(lines)"
   ]
  },
  {
   "cell_type": "code",
   "execution_count": 7,
   "metadata": {},
   "outputs": [
    {
     "data": {
      "text/plain": [
       "'USER_79321756\\t2010-03-03T04:15:26\\tÃ\\x83Â\\x9cT: 47.528139,-122.197916\\t47.528139\\t-122.197916\\tRT @USER_2ff4faca: IF SHE DO IT 1 MORE TIME......IMA KNOCK HER DAMN KOOFIE OFF.....ON MY MOMMA&gt;&gt;haha. #cutthatout\\n'"
      ]
     },
     "execution_count": 7,
     "metadata": {},
     "output_type": "execute_result"
    }
   ],
   "source": [
    "lines[0]"
   ]
  },
  {
   "cell_type": "code",
   "execution_count": 27,
   "metadata": {},
   "outputs": [
    {
     "name": "stdout",
     "output_type": "stream",
     "text": [
      "['USER_79321756\\t2010-03-03T04:15:26\\tÃ\\x83Â\\x9cT: 47.528139,-122.197916\\t47.528139\\t-122.197916\\tRT @USER_2ff4faca: IF SHE DO IT 1 MORE TIME......IMA KNOCK HER DAMN KOOFIE OFF.....ON MY MOMMA&gt;&gt;haha. #cutthatout\\n', 'USER_79321756\\t2010-03-03T04:55:32\\tÃ\\x83Â\\x9cT: 47.528139,-122.197916\\t47.528139\\t-122.197916\\t@USER_77a4822d @USER_2ff4faca okay:) lol. Saying ok to both of yall about to different things!:*\\n', 'USER_79321756\\t2010-03-03T05:13:34\\tÃ\\x83Â\\x9cT: 47.528139,-122.197916\\t47.528139\\t-122.197916\\tRT @USER_5d4d777a: YOURE A FAG FOR GETTING IN THE MIDDLE OF THIS @USER_ab059bdc WHO THE FUCK ARE YOU ? A FUCKING NOBODY !!!!&gt;&gt;Lol! Dayum! Aye!\\n', 'USER_79321756\\t2010-03-03T05:28:02\\tÃ\\x83Â\\x9cT: 47.528139,-122.197916\\t47.528139\\t-122.197916\\t@USER_77a4822d yea ok..well answer that cheap as Sweden phone you came up on when I call.\\n', 'USER_79321756\\t2010-03-03T05:56:13\\tÃ\\x83Â\\x9cT: 47.528139,-122.197916\\t47.528139\\t-122.197916\\tA sprite can disappear in her mouth - lil kim hmmmmm the can not the bottle right?\\n', \"USER_79321756\\t2010-03-03T16:52:44\\tÃ\\x83Â\\x9cT: 47.528139,-122.197916\\t47.528139\\t-122.197916\\tLmao! I still get txt when AJ tweets before they even post (mistake) ha. And the one I just got has me dyin! @USER_a5b463b2 what's ur issue!\\n\", 'USER_79321756\\t2010-03-03T16:57:24\\tÃ\\x83Â\\x9cT: 47.528139,-122.197916\\t47.528139\\t-122.197916\\tAlright twitters tryna take me over!\\n', 'USER_79321756\\t2010-03-03T20:20:40\\tÃ\\x83Â\\x9cT: 47.528139,-122.197916\\t47.528139\\t-122.197916\\tJust got to work. Got my pizza bagel and my raspberry iced tea:). Pulling up my systems..interview not til 2. I just wanna get it done!:D\\n', \"USER_79321756\\t2010-03-03T23:23:33\\tÃ\\x83Â\\x9cT: 47.528139,-122.197916\\t47.528139\\t-122.197916\\tJust got a txt from my cousin! Yes! So happy for you @USER_a9fe21e9 let's get it!\\n\", \"USER_79321756\\t2010-03-03T23:37:36\\tÃ\\x83Â\\x9cT: 47.528139,-122.197916\\t47.528139\\t-122.197916\\tWhy is this woman in the bathroom everytime I'm in the bathroom..!? Stinkn up allll the stalls! Ha.\\n\", 'USER_79321756\\t2010-03-04T01:32:24\\tÃ\\x83Â\\x9cT: 47.528139,-122.197916\\t47.528139\\t-122.197916\\t@USER_d5d93fec shit they everywhere..\\n', 'USER_79321756\\t2010-03-04T01:55:55\\tÃ\\x83Â\\x9cT: 47.528139,-122.197916\\t47.528139\\t-122.197916\\tRT @USER_dc5e5498: Drop and give me 50....\\n', 'USER_79321756\\t2010-03-04T05:09:29\\tÃ\\x83Â\\x9cT: 47.528139,-122.197916\\t47.528139\\t-122.197916\\tI said u got a swisher from redmond!? He said nah kirkland! Lol..ooooooooOkay!\\n', 'USER_79321756\\t2010-03-04T05:57:35\\tÃ\\x83Â\\x9cT: 47.528139,-122.197916\\t47.528139\\t-122.197916\\tLmao!:) havin a good ol time after work! Unexpected! #goodtimes\\n', \"USER_79321756\\t2010-03-04T06:00:09\\tÃ\\x83Â\\x9cT: 47.528139,-122.197916\\t47.528139\\t-122.197916\\tRT @USER_d5d93fec: #letsbereal .. No seriously, #letsbereal&gt;&gt;lol. Don't start.\\n\", 'USER_79321756\\t2010-03-04T06:00:37\\tÃ\\x83Â\\x9cT: 47.528139,-122.197916\\t47.528139\\t-122.197916\\tOn my way to get @USER_60939380 yeee! She want some of this strawberry! Sexy!\\n', 'USER_79321756\\t2010-03-04T06:04:49\\tÃ\\x83Â\\x9cT: 47.528139,-122.197916\\t47.528139\\t-122.197916\\tMake sure ya frisk me good..check my panties and my bra..\\n', \"USER_79321756\\t2010-03-04T06:15:01\\tÃ\\x83Â\\x9cT: 47.528139,-122.197916\\t47.528139\\t-122.197916\\tRT @USER_d5d93fec: RT @USER_79321756: RT @USER_d5d93fec: Man I don't feel like gettin up &gt;&gt;just take a nap.--no I can do this&gt;&gt;Lol. Okay.\\n\", 'USER_79321756\\t2010-03-04T06:43:31\\tÃ\\x83Â\\x9cT: 47.528139,-122.197916\\t47.528139\\t-122.197916\\tRidin.\\n', \"USER_79321756\\t2010-03-04T07:12:13\\tÃ\\x83Â\\x9cT: 47.528139,-122.197916\\t47.528139\\t-122.197916\\tOh I'm late\\n\", 'USER_79321756\\t2010-03-04T07:12:22\\tÃ\\x83Â\\x9cT: 47.528139,-122.197916\\t47.528139\\t-122.197916\\tHa just got home\\n', \"USER_79321756\\t2010-03-04T22:20:55\\tÃ\\x83Â\\x9cT: 47.528139,-122.197916\\t47.528139\\t-122.197916\\tHey @USER_620cd4b9 I know I'm hella late but this is my first twEet of the day so feel special:). Lol. Hope your having a good day!\\n\", 'USER_79321756\\t2010-03-04T22:28:43\\tÃ\\x83Â\\x9cT: 47.528139,-122.197916\\t47.528139\\t-122.197916\\tMy phones been dead for all day. Got some txts and vms. My guys from work came through! Lovin my life for da most part:)! #thankful\\n', \"USER_79321756\\t2010-03-04T22:35:47\\tÃ\\x83Â\\x9cT: 47.528139,-122.197916\\t47.528139\\t-122.197916\\tRT @USER_620cd4b9: @USER_79321756 I will boo, I'll just jump on her LOL&gt;&gt;k promise:(\\n\", \"USER_79321756\\t2010-03-05T00:30:27\\tÃ\\x83Â\\x9cT: 47.528139,-122.197916\\t47.528139\\t-122.197916\\tBout to check my work email again. Funn we had to do shift bids and today we got the results but I'm off..co workers hitn me to tell me\\n\", 'USER_79321756\\t2010-03-05T01:03:13\\tÃ\\x83Â\\x9cT: 47.528139,-122.197916\\t47.528139\\t-122.197916\\tYeeeee founf my letter. Now waiting for this phone call. I need some good news asap. Thinkin bout ladies night tonight..its been a while.\\n', 'USER_79321756\\t2010-03-05T01:38:16\\tÃ\\x83Â\\x9cT: 47.528139,-122.197916\\t47.528139\\t-122.197916\\t#LetsBeReal You miss me nigga! Lol.\\n', 'USER_79321756\\t2010-03-05T01:44:12\\tÃ\\x83Â\\x9cT: 47.528139,-122.197916\\t47.528139\\t-122.197916\\tI had a mimosa earlier:) and thought about @USER_dc5e5498 @USER_d35ae058\\n', \"USER_79321756\\t2010-03-05T01:58:00\\tÃ\\x83Â\\x9cT: 47.528139,-122.197916\\t47.528139\\t-122.197916\\tI'm really doing good. Ima stick to this. Well ima try my best. And I really am going to TRY. Not just say I'm tryin..\\n\", 'USER_79321756\\t2010-03-05T02:10:02\\tÃ\\x83Â\\x9cT: 47.528139,-122.197916\\t47.528139\\t-122.197916\\tRT @USER_642c9c1b: RT @USER_9bc2644b: out of line. Ã¢Â\\x80Â¢ Very\\n', 'USER_79321756\\t2010-03-05T02:29:20\\tÃ\\x83Â\\x9cT: 47.528139,-122.197916\\t47.528139\\t-122.197916\\tRT @USER_3914673e: I have no damn discipline.&gt;&gt;Lol. #confess\\n', \"USER_79321756\\t2010-03-05T02:47:52\\tÃ\\x83Â\\x9cT: 47.528139,-122.197916\\t47.528139\\t-122.197916\\tRT @USER_4cecd527: @USER_79321756 haha you're stupid...&gt;&gt;Nope I'm smart:)\\n\", 'USER_79321756\\t2010-03-05T04:48:05\\tÃ\\x83Â\\x9cT: 47.528139,-122.197916\\t47.528139\\t-122.197916\\tJust talkin too for real. Ha.\\n', 'USER_79321756\\t2010-03-05T05:19:34\\tÃ\\x83Â\\x9cT: 47.528139,-122.197916\\t47.528139\\t-122.197916\\tRegardless of the kind of relationship you and your parents have they recognize you..mines are both proud of me..and I will keep that goin.\\n', 'USER_79321756\\t2010-03-05T05:19:48\\tÃ\\x83Â\\x9cT: 47.528139,-122.197916\\t47.528139\\t-122.197916\\tAm I proud of both of them? No. Maybe 1 of em. Ha.\\n', 'USER_79321756\\t2010-03-05T05:42:06\\tÃ\\x83Â\\x9cT: 47.528139,-122.197916\\t47.528139\\t-122.197916\\tWaiting for my lil bro to get home..this guy is spoiled. After wrestling practice he had his god mom take him to red robins like moms does..\\n', 'USER_79321756\\t2010-03-05T05:57:16\\tÃ\\x83Â\\x9cT: 47.528139,-122.197916\\t47.528139\\t-122.197916\\t@USER_920f4fcd haha as you are to me!\\n', 'USER_79321756\\t2010-03-05T07:10:00\\tÃ\\x83Â\\x9cT: 47.528139,-122.197916\\t47.528139\\t-122.197916\\tRT @USER_d5d93fec: She hates PORK @USER_621b922f hahahahaha\\n', 'USER_79321756\\t2010-03-05T07:33:45\\tÃ\\x83Â\\x9cT: 47.528139,-122.197916\\t47.528139\\t-122.197916\\tNigga did I eat today?! Lol. - I wanna watch that katt.\\n', 'USER_79321756\\t2010-03-05T07:57:25\\tÃ\\x83Â\\x9cT: 47.528139,-122.197916\\t47.528139\\t-122.197916\\tAll my bitches love me..all my all my bitches love me..\\n', 'USER_79321756\\t2010-03-05T07:58:56\\tÃ\\x83Â\\x9cT: 47.528139,-122.197916\\t47.528139\\t-122.197916\\t@USER_2c8fc9a4 boy stop. Lol.\\n', \"USER_79321756\\t2010-03-05T07:59:39\\tÃ\\x83Â\\x9cT: 47.528139,-122.197916\\t47.528139\\t-122.197916\\tRT @USER_dc5e5498: @USER_79321756 so your trying to say im pressed. #SuperTweeter ?? lmao hahah&gt;&gt;Lol. I'd rather get em on twitter only. Lol.\\n\", \"USER_79321756\\t2010-03-05T08:31:59\\tÃ\\x83Â\\x9cT: 47.528139,-122.197916\\t47.528139\\t-122.197916\\t@USER_2c8fc9a4 ...(Rollin my neck) don't even know da flavor!\\n\", 'USER_79321756\\t2010-03-05T16:24:15\\tÃ\\x83Â\\x9cT: 47.528139,-122.197916\\t47.528139\\t-122.197916\\t#FF those closest 2me: @USER_60939380 @USER_77a4822d @USER_2ff4faca @USER_d35ae058 @USER_4cf4c347 @USER_e794c52b @USER_d6d5e1bc @USER_6a8ee939 @USER_a9fe21e9\\n', 'USER_79321756\\t2010-03-05T16:44:37\\tÃ\\x83Â\\x9cT: 47.528139,-122.197916\\t47.528139\\t-122.197916\\t#FF @USER_719853c2 cause everybody who knows me know he\\'s my favorite! Since I was. Baby! \"You can learn from a baby\"! Lol. Yup. He said it..\\n', 'USER_79321756\\t2010-03-05T16:45:56\\tÃ\\x83Â\\x9cT: 47.528139,-122.197916\\t47.528139\\t-122.197916\\tTime to go..walkn out the dooe to handle some major family bi cause we do this.\\n', \"USER_79321756\\t2010-03-05T16:50:55\\tÃ\\x83Â\\x9cT: 47.528139,-122.197916\\t47.528139\\t-122.197916\\tOh damn it! I almost forgot! I'm taking my guy out top lunch for his bday later! I really need to get things rollin!\\n\", 'USER_79321756\\t2010-03-05T16:54:08\\tÃ\\x83Â\\x9cT: 47.528139,-122.197916\\t47.528139\\t-122.197916\\t#FF Peppers and Salt..lol aka the new boys :) Jk. @USER_62abd48d @USER_9763f55c\\n', 'USER_79321756\\t2010-03-05T16:58:14\\tÃ\\x83Â\\x9cT: 47.528139,-122.197916\\t47.528139\\t-122.197916\\tRT @USER_620cd4b9: #FF @USER_79321756 just as crazy as she wanna be and be on that subliminal tweet game :)&gt;&gt;Lol ! Whatever! Haha.\\n']\n",
      "data type of lines: <class 'list'>\n"
     ]
    }
   ],
   "source": [
    "# Read File Into Memory First\n",
    "import sys\n",
    "\n",
    "filename_twitter = './data/full_text_small.txt'\n",
    "\n",
    "f = open(filename_twitter, 'r', encoding='latin-1')     \n",
    "lines = f.readlines()      # In this case, the lines are read into memory as a list\n",
    "print (lines)\n",
    "print (\"data type of lines: {0}\".format(type(lines)))\n",
    "f.close()\n",
    "    "
   ]
  },
  {
   "cell_type": "code",
   "execution_count": null,
   "metadata": {
    "collapsed": true
   },
   "outputs": [],
   "source": []
  },
  {
   "cell_type": "markdown",
   "metadata": {},
   "source": [
    "## 1.3 Write to a File"
   ]
  },
  {
   "cell_type": "code",
   "execution_count": 29,
   "metadata": {
    "collapsed": true
   },
   "outputs": [],
   "source": [
    "# Write file\n",
    "import sys\n",
    "\n",
    "filename_twitter = './data/full_text_small.txt'\n",
    "filename_output = './data/full_text_first5.txt'\n",
    "\n",
    "twitter = open(filename_twitter, 'r', encoding=\"latin-1\")     # open the file\n",
    "output = open(filename_output, 'w', encoding=\"utf-8\")     # open the file for writing data\n",
    "\n",
    "\n",
    "nrows = 0\n",
    "for z in twitter:               # read into memory one line at a time, will never run out of memory!!!\n",
    "    nrows += 1\n",
    "    if nrows < 5:\n",
    "        output.write(z)\n",
    "        \n",
    "twitter.close()\n",
    "output.close()\n",
    "# Note that you just wrote data to a file named \"text.txt\". You don't see any output"
   ]
  },
  {
   "cell_type": "code",
   "execution_count": null,
   "metadata": {
    "collapsed": true
   },
   "outputs": [],
   "source": []
  },
  {
   "cell_type": "markdown",
   "metadata": {},
   "source": [
    "# 2. String Manipulation\n",
    "\n",
    "<img src='images/python_string_index_representation_1.png' width=\"25%\">\n",
    "<img src='images/python_string_index_representation_2.png' width=\"26%\">"
   ]
  },
  {
   "cell_type": "markdown",
   "metadata": {},
   "source": [
    "## 2.1 String Slicing and Indexing"
   ]
  },
  {
   "cell_type": "code",
   "execution_count": 21,
   "metadata": {},
   "outputs": [
    {
     "name": "stdout",
     "output_type": "stream",
     "text": [
      "79321756\n",
      "79321756\n",
      "79321756\n",
      "79321756\n",
      "79321756\n",
      "79321756\n",
      "79321756\n",
      "79321756\n",
      "79321756\n",
      "79321756\n",
      "79321756\n",
      "79321756\n",
      "79321756\n",
      "79321756\n",
      "79321756\n",
      "79321756\n",
      "79321756\n",
      "79321756\n",
      "79321756\n",
      "79321756\n",
      "79321756\n",
      "79321756\n",
      "79321756\n",
      "79321756\n",
      "79321756\n",
      "79321756\n",
      "79321756\n",
      "79321756\n",
      "79321756\n",
      "79321756\n",
      "79321756\n",
      "79321756\n",
      "79321756\n",
      "79321756\n",
      "79321756\n",
      "79321756\n",
      "79321756\n",
      "79321756\n",
      "79321756\n",
      "79321756\n",
      "79321756\n",
      "79321756\n",
      "79321756\n",
      "79321756\n",
      "79321756\n",
      "79321756\n",
      "79321756\n",
      "79321756\n",
      "79321756\n"
     ]
    }
   ],
   "source": [
    "# Read File One Line At a Time\n",
    "\n",
    "filename = './data/full_text_small.txt'\n",
    "\n",
    "f = open(filename, 'r', encoding=\"latin-1\")      # open the file for read\n",
    "\n",
    "for line in f:               # read into memory one line at a time, will never run out of memory!!!\n",
    "    line_list = line.lower().split('\\t')\n",
    "    #print(id)\n",
    "    user_id = line_list[0]\n",
    "    #print(user_id)\n",
    "    id = user_id[5:]\n",
    "    print(id)\n",
    "\n",
    "f.close()                    # close the file"
   ]
  },
  {
   "cell_type": "markdown",
   "metadata": {},
   "source": [
    "### $\\Delta$ Exercise 2.1 - Extract all retweets using string indexing and slicing\n"
   ]
  },
  {
   "cell_type": "code",
   "execution_count": 57,
   "metadata": {},
   "outputs": [
    {
     "name": "stdout",
     "output_type": "stream",
     "text": [
      "rt @user_2ff4faca\n",
      "rt @user_5d4d777a\n",
      "rt @user_dc5e5498\n",
      "rt @user_d5d93fec\n",
      "rt @user_d5d93fec\n",
      "rt @user_620cd4b9\n",
      "rt @user_642c9c1b\n",
      "rt @user_3914673e\n",
      "rt @user_4cecd527\n",
      "rt @user_d5d93fec\n",
      "rt @user_dc5e5498\n",
      "rt @user_620cd4b9\n"
     ]
    }
   ],
   "source": [
    "# Read File One Line At a Time\n",
    "\n",
    "filename = './data/full_text_small.txt'\n",
    "\n",
    "f = open(filename, 'r', encoding=\"latin-1\")      # open the file for read\n",
    "\n",
    "for line in f:               # read into memory one line at a time, will never run out of memory!!!\n",
    "    line_list = line.lower().split('\\t')\n",
    "    tweet = line_list[5]\n",
    "    #print(tweet)\n",
    "    \n",
    "    ###############################\n",
    "    # Insert your code block here\n",
    "    ###############################\n",
    "    \n",
    "    if 'rt ' in tweet:\n",
    "        retweet = tweet[:17]\n",
    "        print(retweet)\n",
    "    \n",
    "f.close()                    # close the file"
   ]
  },
  {
   "cell_type": "code",
   "execution_count": null,
   "metadata": {
    "collapsed": true
   },
   "outputs": [],
   "source": []
  },
  {
   "cell_type": "markdown",
   "metadata": {},
   "source": [
    "## 2.2 String Methods"
   ]
  },
  {
   "cell_type": "markdown",
   "metadata": {},
   "source": [
    "`\n",
    "s.lower()  \n",
    "s.upper()   \n",
    "s.capitalize()        \n",
    "s.strip()   \n",
    "s.isalpha()  \n",
    "s.isdigit()  \n",
    "s.isspace()  \n",
    "s.startwith()  \n",
    "s.endswith()  \n",
    "s.replace()\n",
    "s.split()\n",
    "s.join()\n",
    "`"
   ]
  },
  {
   "cell_type": "markdown",
   "metadata": {},
   "source": [
    "### $\\Delta$ 2.2 Exercise 1 - Find all retweets that startswith \"rt \""
   ]
  },
  {
   "cell_type": "code",
   "execution_count": 47,
   "metadata": {},
   "outputs": [
    {
     "name": "stdout",
     "output_type": "stream",
     "text": [
      "rt @user_2ff4faca\n",
      "rt @user_5d4d777a\n",
      "rt @user_dc5e5498\n",
      "rt @user_d5d93fec\n",
      "rt @user_d5d93fec\n",
      "rt @user_620cd4b9\n",
      "rt @user_642c9c1b\n",
      "rt @user_3914673e\n",
      "rt @user_4cecd527\n",
      "rt @user_d5d93fec\n",
      "rt @user_dc5e5498\n",
      "rt @user_620cd4b9\n"
     ]
    }
   ],
   "source": [
    "filename = './data/full_text_small.txt'\n",
    "\n",
    "f = open(filename, 'r', encoding=\"latin-1\")      # open the file for read\n",
    "\n",
    "for line in f:               # read into memory one line at a time, will never run out of memory!!!\n",
    "    line_list = line.lower().split('\\t')\n",
    "    tweet = line_list[5]\n",
    "    if tweet.startswith('rt '):\n",
    "        print(tweet[:17])\n",
    "\n",
    "f.close()                    # close the file"
   ]
  },
  {
   "cell_type": "markdown",
   "metadata": {},
   "source": [
    "### $\\Delta$ 2.2 Exercise 2 - Find all tweets that contain hashtag \"#nowplaying\""
   ]
  },
  {
   "cell_type": "code",
   "execution_count": 59,
   "metadata": {
    "collapsed": true
   },
   "outputs": [],
   "source": [
    "filename = './data/full_text.txt'\n",
    "\n",
    "f = open(filename, 'r', encoding=\"latin-1\")      # open the file for read\n",
    "\n",
    "for line in f:               # read into memory one line at a time, will never run out of memory!!!\n",
    "    line_list = line.lower().split('\\t')\n",
    "    tweet = line_list[5]\n",
    "    ###############################\n",
    "    # Insert your code block below\n",
    "    ###############################\n",
    "\n",
    "f.close()                    # close the file"
   ]
  },
  {
   "cell_type": "code",
   "execution_count": null,
   "metadata": {
    "collapsed": true
   },
   "outputs": [],
   "source": []
  },
  {
   "cell_type": "markdown",
   "metadata": {},
   "source": [
    "### $\\Delta$ 2.2 Exercise 3 - Use string.join() method to join latitude and longtitude into a string"
   ]
  },
  {
   "cell_type": "code",
   "execution_count": 1,
   "metadata": {},
   "outputs": [
    {
     "name": "stdout",
     "output_type": "stream",
     "text": [
      "47.528139,-122.197916\n",
      "47.528139,-122.197916\n",
      "47.528139,-122.197916\n",
      "47.528139,-122.197916\n",
      "47.528139,-122.197916\n",
      "47.528139,-122.197916\n",
      "47.528139,-122.197916\n",
      "47.528139,-122.197916\n",
      "47.528139,-122.197916\n",
      "47.528139,-122.197916\n",
      "47.528139,-122.197916\n",
      "47.528139,-122.197916\n",
      "47.528139,-122.197916\n",
      "47.528139,-122.197916\n",
      "47.528139,-122.197916\n",
      "47.528139,-122.197916\n",
      "47.528139,-122.197916\n",
      "47.528139,-122.197916\n",
      "47.528139,-122.197916\n",
      "47.528139,-122.197916\n",
      "47.528139,-122.197916\n",
      "47.528139,-122.197916\n",
      "47.528139,-122.197916\n",
      "47.528139,-122.197916\n",
      "47.528139,-122.197916\n",
      "47.528139,-122.197916\n",
      "47.528139,-122.197916\n",
      "47.528139,-122.197916\n",
      "47.528139,-122.197916\n",
      "47.528139,-122.197916\n",
      "47.528139,-122.197916\n",
      "47.528139,-122.197916\n",
      "47.528139,-122.197916\n",
      "47.528139,-122.197916\n",
      "47.528139,-122.197916\n",
      "47.528139,-122.197916\n",
      "47.528139,-122.197916\n",
      "47.528139,-122.197916\n",
      "47.528139,-122.197916\n",
      "47.528139,-122.197916\n",
      "47.528139,-122.197916\n",
      "47.528139,-122.197916\n",
      "47.528139,-122.197916\n",
      "47.528139,-122.197916\n",
      "47.528139,-122.197916\n",
      "47.528139,-122.197916\n",
      "47.528139,-122.197916\n",
      "47.528139,-122.197916\n",
      "47.528139,-122.197916\n"
     ]
    }
   ],
   "source": [
    "filename = './data/full_text_small.txt'\n",
    "\n",
    "f = open(filename, 'r', encoding=\"latin-1\")      # open the file for read\n",
    "\n",
    "for line in f:               # read into memory one line at a time, will never run out of memory!!!\n",
    "    line_list = line.lower().split('\\t')\n",
    "    lat = line_list[3]\n",
    "    lon = line_list[4]\n",
    "    ###############################\n",
    "    # Insert your code block below\n",
    "    ###############################\n",
    "    print(','.join([lat, lon]))\n",
    "\n",
    "f.close()                    # close the file"
   ]
  },
  {
   "cell_type": "code",
   "execution_count": null,
   "metadata": {
    "collapsed": true
   },
   "outputs": [],
   "source": []
  },
  {
   "cell_type": "markdown",
   "metadata": {},
   "source": [
    "# 3. List and List Comprehension\n"
   ]
  },
  {
   "cell_type": "markdown",
   "metadata": {},
   "source": [
    "**`List`** is probably one of the most important containers in python. \n",
    "To learn more about list: [Google Python Class on List](https://developers.google.com/edu/python/lists)\n",
    "\n",
    "Key things to master:\n",
    "1. Iterate through list elements\n",
    "2. Sorting a list\n",
    "3. List Comprehension"
   ]
  },
  {
   "cell_type": "markdown",
   "metadata": {},
   "source": [
    "## 3.1 - Sort a list of hashtags by count in reverse order"
   ]
  },
  {
   "cell_type": "code",
   "execution_count": 24,
   "metadata": {},
   "outputs": [
    {
     "name": "stdout",
     "output_type": "stream",
     "text": [
      "Help on built-in function sorted in module builtins:\n",
      "\n",
      "sorted(iterable, /, *, key=None, reverse=False)\n",
      "    Return a new list containing all items from the iterable in ascending order.\n",
      "    \n",
      "    A custom key function can be supplied to customize the sort order, and the\n",
      "    reverse flag can be set to request the result in descending order.\n",
      "\n"
     ]
    }
   ],
   "source": [
    "help(sorted)"
   ]
  },
  {
   "cell_type": "code",
   "execution_count": 27,
   "metadata": {},
   "outputs": [
    {
     "data": {
      "text/plain": [
       "[('#unotfromthehoodif', 208),\n",
       " ('#twitterafterdark', 297),\n",
       " ('#thuglife', 175),\n",
       " ('#thatisall', 309),\n",
       " ('#teamblackberry', 204),\n",
       " ('#smh', 150),\n",
       " ('#shoutouts', 106),\n",
       " ('#shoutout', 840),\n",
       " ('#sex', 141),\n",
       " ('#realthugs', 208),\n",
       " ('#realtalk', 260),\n",
       " ('#realgrandmas', 275),\n",
       " ('#randomthoughts', 190),\n",
       " ('#randomthought', 135),\n",
       " ('#random', 874),\n",
       " ('#placesiwannahavesex', 185),\n",
       " ('#oneofmyfollowers', 109),\n",
       " ('#np', 165),\n",
       " ('#nowplaying', 2505),\n",
       " ('#nowplayin', 107),\n",
       " ('#notcool', 114),\n",
       " ('#mewithoutyouislike', 246),\n",
       " ('#letsbereal', 1133),\n",
       " ('#itsnotokay', 546),\n",
       " ('#itsnotcool', 359),\n",
       " ('#irefuseto', 437),\n",
       " ('#irefuse', 115),\n",
       " ('#inhighschool', 2312),\n",
       " ('#imjustsaying', 184),\n",
       " ('#imjustsayin', 256),\n",
       " ('#icheatedbecause', 495),\n",
       " ('#ibelieve', 240),\n",
       " ('#iREFUSEto', 215),\n",
       " ('#howwouldyoufeel', 185),\n",
       " ('#ff', 1436),\n",
       " ('#fb', 115),\n",
       " ('#famusextape', 156),\n",
       " ('#fail', 396),\n",
       " ('#fact', 235),\n",
       " ('#everydayiwakeup', 317),\n",
       " ('#dontjudgeme', 257),\n",
       " ('#dk1bots', 282),\n",
       " ('#dead', 178),\n",
       " ('#chancesare', 342),\n",
       " ('#beforeidie', 109),\n",
       " ('#andthenwehadsex', 138),\n",
       " ('#amitheonlyone', 197),\n",
       " ('#TT', 208),\n",
       " ('#TDL', 105),\n",
       " ('#Shoutout', 147),\n",
       " ('#RandomThoughts', 110),\n",
       " ('#Random', 247),\n",
       " ('#PlacesIWannaHaveSex', 159),\n",
       " ('#POW', 112),\n",
       " ('#Nowplaying', 181),\n",
       " ('#NowPlaying', 403),\n",
       " ('#NP', 141),\n",
       " ('#MeWithoutYouIsLike', 298),\n",
       " ('#LetsBeReal', 715),\n",
       " ('#ItsNotOkay', 189),\n",
       " ('#ItsNotCool', 105),\n",
       " ('#Inhighschool', 101),\n",
       " ('#InHighSchool', 231),\n",
       " ('#HowWouldYouFeel', 164),\n",
       " ('#FollowFriday', 123),\n",
       " ('#FF', 4640),\n",
       " ('#FAIL', 118),\n",
       " ('#CS2', 126),\n",
       " ('#BGC', 125),\n",
       " ('#BETmessedupwhen', 116),\n",
       " ('#AndThenWeHadSex', 121),\n",
       " ('#2', 106),\n",
       " ('#1', 210),\n",
       " ('#', 603)]"
      ]
     },
     "execution_count": 27,
     "metadata": {},
     "output_type": "execute_result"
    }
   ],
   "source": [
    "top_hashtags = [('#unotfromthehoodif', 208),\n",
    " ('#twitterafterdark', 297),\n",
    " ('#thuglife', 175),\n",
    " ('#thatisall', 309),\n",
    " ('#teamblackberry', 204),\n",
    " ('#smh', 150),\n",
    " ('#shoutouts', 106),\n",
    " ('#shoutout', 840),\n",
    " ('#sex', 141),\n",
    " ('#realthugs', 208),\n",
    " ('#realtalk', 260),\n",
    " ('#realgrandmas', 275),\n",
    " ('#randomthoughts', 190),\n",
    " ('#randomthought', 135),\n",
    " ('#random', 874),\n",
    " ('#placesiwannahavesex', 185),\n",
    " ('#oneofmyfollowers', 109),\n",
    " ('#np', 165),\n",
    " ('#nowplaying', 2505),\n",
    " ('#nowplayin', 107),\n",
    " ('#notcool', 114),\n",
    " ('#mewithoutyouislike', 246),\n",
    " ('#letsbereal', 1133),\n",
    " ('#itsnotokay', 546),\n",
    " ('#itsnotcool', 359),\n",
    " ('#irefuseto', 437),\n",
    " ('#irefuse', 115),\n",
    " ('#inhighschool', 2312),\n",
    " ('#imjustsaying', 184),\n",
    " ('#imjustsayin', 256),\n",
    " ('#icheatedbecause', 495),\n",
    " ('#ibelieve', 240),\n",
    " ('#iREFUSEto', 215),\n",
    " ('#howwouldyoufeel', 185),\n",
    " ('#ff', 1436),\n",
    " ('#fb', 115),\n",
    " ('#famusextape', 156),\n",
    " ('#fail', 396),\n",
    " ('#fact', 235),\n",
    " ('#everydayiwakeup', 317),\n",
    " ('#dontjudgeme', 257),\n",
    " ('#dk1bots', 282),\n",
    " ('#dead', 178),\n",
    " ('#chancesare', 342),\n",
    " ('#beforeidie', 109),\n",
    " ('#andthenwehadsex', 138),\n",
    " ('#amitheonlyone', 197),\n",
    " ('#TT', 208),\n",
    " ('#TDL', 105),\n",
    " ('#Shoutout', 147),\n",
    " ('#RandomThoughts', 110),\n",
    " ('#Random', 247),\n",
    " ('#PlacesIWannaHaveSex', 159),\n",
    " ('#POW', 112),\n",
    " ('#Nowplaying', 181),\n",
    " ('#NowPlaying', 403),\n",
    " ('#NP', 141),\n",
    " ('#MeWithoutYouIsLike', 298),\n",
    " ('#LetsBeReal', 715),\n",
    " ('#ItsNotOkay', 189),\n",
    " ('#ItsNotCool', 105),\n",
    " ('#Inhighschool', 101),\n",
    " ('#InHighSchool', 231),\n",
    " ('#HowWouldYouFeel', 164),\n",
    " ('#FollowFriday', 123),\n",
    " ('#FF', 4640),\n",
    " ('#FAIL', 118),\n",
    " ('#CS2', 126),\n",
    " ('#BGC', 125),\n",
    " ('#BETmessedupwhen', 116),\n",
    " ('#AndThenWeHadSex', 121),\n",
    " ('#2', 106),\n",
    " ('#1', 210),\n",
    " ('#', 603)]\n",
    "\n",
    "top_hashtags_sorted = sorted(top_hashtags,reverse=True)\n",
    "top_hashtags_sorted"
   ]
  },
  {
   "cell_type": "code",
   "execution_count": 29,
   "metadata": {},
   "outputs": [],
   "source": [
    "s = \"data\""
   ]
  },
  {
   "cell_type": "markdown",
   "metadata": {},
   "source": [
    "## 3.2 - Iterate through a list with for loop"
   ]
  },
  {
   "cell_type": "code",
   "execution_count": 32,
   "metadata": {},
   "outputs": [
    {
     "name": "stdout",
     "output_type": "stream",
     "text": [
      "['unotfromthehoodif', 'twitterafterdark', 'thuglife', 'thatisall', 'teamblackberry', 'smh', 'shoutouts', 'shoutout', 'sex', 'realthugs', 'realtalk', 'realgrandmas', 'randomthoughts', 'randomthought', 'random', 'placesiwannahavesex', 'oneofmyfollowers', 'np', 'nowplaying', 'nowplayin', 'notcool', 'mewithoutyouislike', 'letsbereal', 'itsnotokay', 'itsnotcool', 'irefuseto', 'irefuse', 'inhighschool', 'imjustsaying', 'imjustsayin', 'icheatedbecause', 'ibelieve', 'iREFUSEto', 'howwouldyoufeel', 'ff', 'fb', 'famusextape', 'fail', 'fact', 'everydayiwakeup', 'dontjudgeme', 'dk1bots', 'dead', 'chancesare', 'beforeidie', 'andthenwehadsex', 'amitheonlyone', 'TT', 'TDL', 'Shoutout', 'RandomThoughts', 'Random', 'PlacesIWannaHaveSex', 'POW', 'Nowplaying', 'NowPlaying', 'NP', 'MeWithoutYouIsLike', 'LetsBeReal', 'ItsNotOkay', 'ItsNotCool', 'Inhighschool', 'InHighSchool', 'HowWouldYouFeel', 'FollowFriday', 'FF', 'FAIL', 'CS2', 'BGC', 'BETmessedupwhen', 'AndThenWeHadSex', '2', '1', '']\n"
     ]
    },
    {
     "data": {
      "text/plain": [
       "['unotfromthehoodif',\n",
       " 'twitterafterdark',\n",
       " 'thuglife',\n",
       " 'thatisall',\n",
       " 'teamblackberry',\n",
       " 'smh',\n",
       " 'shoutouts',\n",
       " 'shoutout',\n",
       " 'sex',\n",
       " 'realthugs',\n",
       " 'realtalk',\n",
       " 'realgrandmas',\n",
       " 'randomthoughts',\n",
       " 'randomthought',\n",
       " 'random',\n",
       " 'placesiwannahavesex',\n",
       " 'oneofmyfollowers',\n",
       " 'np',\n",
       " 'nowplaying',\n",
       " 'nowplayin',\n",
       " 'notcool',\n",
       " 'mewithoutyouislike',\n",
       " 'letsbereal',\n",
       " 'itsnotokay',\n",
       " 'itsnotcool',\n",
       " 'irefuseto',\n",
       " 'irefuse',\n",
       " 'inhighschool',\n",
       " 'imjustsaying',\n",
       " 'imjustsayin',\n",
       " 'icheatedbecause',\n",
       " 'ibelieve',\n",
       " 'iREFUSEto',\n",
       " 'howwouldyoufeel',\n",
       " 'ff',\n",
       " 'fb',\n",
       " 'famusextape',\n",
       " 'fail',\n",
       " 'fact',\n",
       " 'everydayiwakeup',\n",
       " 'dontjudgeme',\n",
       " 'dk1bots',\n",
       " 'dead',\n",
       " 'chancesare',\n",
       " 'beforeidie',\n",
       " 'andthenwehadsex',\n",
       " 'amitheonlyone',\n",
       " 'TT',\n",
       " 'TDL',\n",
       " 'Shoutout',\n",
       " 'RandomThoughts',\n",
       " 'Random',\n",
       " 'PlacesIWannaHaveSex',\n",
       " 'POW',\n",
       " 'Nowplaying',\n",
       " 'NowPlaying',\n",
       " 'NP',\n",
       " 'MeWithoutYouIsLike',\n",
       " 'LetsBeReal',\n",
       " 'ItsNotOkay',\n",
       " 'ItsNotCool',\n",
       " 'Inhighschool',\n",
       " 'InHighSchool',\n",
       " 'HowWouldYouFeel',\n",
       " 'FollowFriday',\n",
       " 'FF',\n",
       " 'FAIL',\n",
       " 'CS2',\n",
       " 'BGC',\n",
       " 'BETmessedupwhen',\n",
       " 'AndThenWeHadSex',\n",
       " '2',\n",
       " '1',\n",
       " '']"
      ]
     },
     "execution_count": 32,
     "metadata": {},
     "output_type": "execute_result"
    }
   ],
   "source": [
    "# Remove the '#' from hashtags\n",
    "top_tags = []\n",
    "for ht in top_hashtags:\n",
    "    tag = ht[0].replace('#', '')\n",
    "    top_tags.append(tag)\n",
    "    \n",
    "print(top_tags)\n",
    "sorted(top_tags, reverse=True)\n",
    "    \n",
    "    "
   ]
  },
  {
   "cell_type": "markdown",
   "metadata": {},
   "source": [
    "### $\\Delta$ Exercise 3.2 - Remove '#' from hashtags using list comprehension"
   ]
  },
  {
   "cell_type": "markdown",
   "metadata": {},
   "source": [
    "###### Expected output\n",
    "['unotfromthehoodif',  \n",
    " 'twitterafterdark',  \n",
    " 'thuglife',  \n",
    " 'thatisall',  \n",
    " 'teamblackberry',  \n",
    " 'smh',  \n",
    " 'shoutouts',  \n",
    " 'shoutout',  \n",
    " ...  \n",
    "]"
   ]
  },
  {
   "cell_type": "code",
   "execution_count": 42,
   "metadata": {
    "collapsed": true
   },
   "outputs": [],
   "source": [
    "###############################\n",
    "# Insert your code block below\n",
    "###############################"
   ]
  },
  {
   "cell_type": "markdown",
   "metadata": {},
   "source": [
    "### $\\Delta$ Exercise 3.3 - Use list comprehensions to extract all retweets that as mentions"
   ]
  },
  {
   "cell_type": "code",
   "execution_count": 18,
   "metadata": {},
   "outputs": [
    {
     "name": "stdout",
     "output_type": "stream",
     "text": [
      "Mentions: ['rt @user_2ff4faca', 'rt @user_5d4d777a', 'rt @user_dc5e5498', 'rt @user_d5d93fec', 'rt @user_d5d93fec', 'rt @user_620cd4b9', 'rt @user_642c9c1b', 'rt @user_3914673e', 'rt @user_4cecd527', 'rt @user_d5d93fec', 'rt @user_dc5e5498', 'rt @user_620cd4b9']\n",
      "\n",
      "Number of mentions: 12\n",
      "\n",
      "Unique mentions: {'rt @user_2ff4faca', 'rt @user_5d4d777a', 'rt @user_d5d93fec', 'rt @user_642c9c1b', 'rt @user_620cd4b9', 'rt @user_3914673e', 'rt @user_dc5e5498', 'rt @user_4cecd527'}\n",
      "\n",
      "Unique mentions: 8\n"
     ]
    }
   ],
   "source": [
    "filename = './data/full_text_small.txt'\n",
    "\n",
    "f = open(filename, 'r', encoding=\"latin-1\")      # open the file for read\n",
    "\n",
    "# read data into a list\n",
    "lines = f.readlines()\n",
    "\n",
    "# List comprehension\n",
    "mentions = [line.split('\\t')[5][:17].lower() for line in lines if line.split('\\t')[5].lower().startswith('rt ')]\n",
    "\n",
    "print(\"Mentions: {}\".format(mentions))\n",
    "print()\n",
    "print(\"Number of mentions: {0}\".format(len(mentions)))\n",
    "print()\n",
    "print(\"Unique mentions: {}\".format(set(mentions)))\n",
    "print()\n",
    "print(\"Unique mentions: {}\".format(len(set(mentions))))\n",
    "\n",
    "f.close()              "
   ]
  },
  {
   "cell_type": "markdown",
   "metadata": {},
   "source": []
  },
  {
   "cell_type": "markdown",
   "metadata": {},
   "source": [
    "# 4. Dictionary\n",
    "\n",
    "Python's efficient key/value hash table structure is called a \"dict\" and we use a key to retrieve corresponding values stored in a \"dict\""
   ]
  },
  {
   "cell_type": "code",
   "execution_count": 33,
   "metadata": {
    "collapsed": true
   },
   "outputs": [],
   "source": [
    "top_hashtags_dict = {'#ff': 1436, '#FF': 4640, '#shoutout': 840, '#teamblackberry': 204, '#TT': 208, '#TDL': 105, '#irefuseto': 437, '#irefuse': 115, '#CS2': 126, '#oneofmyfollowers': 109, '#Inhighschool': 101, '#smh': 150, '#iREFUSEto': 215, '#imjustsayin': 256, '#FollowFriday': 123, '#RandomThoughts': 110, '#realtalk': 260, '#mewithoutyouislike': 246, '#random': 874, '#imjustsaying': 184, '#amitheonlyone': 197, '#dead': 178, '#ItsNotCool': 105, '#everydayiwakeup': 317, '#notcool': 114, '#realgrandmas': 275, '#Nowplaying': 181, '#PlacesIWannaHaveSex': 159, '#letsbereal': 1133, '#icheatedbecause': 495, '#twitterafterdark': 297, '#randomthought': 135, '#': 603, '#thuglife': 175, '#realthugs': 208, '#BGC': 125, '#Random': 247, '#MeWithoutYouIsLike': 298, '#1': 210, '#nowplayin': 107, '#sex': 141, '#famusextape': 156, '#Shoutout': 147, '#randomthoughts': 190, '#dontjudgeme': 257, '#andthenwehadsex': 138, '#InHighSchool': 231, '#FAIL': 118, '#itsnotcool': 359, '#fb': 115, '#NowPlaying': 403, '#chancesare': 342, '#dk1bots': 282, '#beforeidie': 109, '#inhighschool': 2312, '#placesiwannahavesex': 185, '#NP': 141, '#POW': 112, '#unotfromthehoodif': 208, '#ibelieve': 240, '#HowWouldYouFeel': 164, '#nowplaying': 2505, '#AndThenWeHadSex': 121, '#thatisall': 309, '#shoutouts': 106, '#BETmessedupwhen': 116, '#LetsBeReal': 715, '#2': 106, '#ItsNotOkay': 189, '#fact': 235, '#howwouldyoufeel': 185, '#itsnotokay': 546, '#np': 165, '#fail': 396}\n"
   ]
  },
  {
   "cell_type": "code",
   "execution_count": 34,
   "metadata": {},
   "outputs": [
    {
     "data": {
      "text/plain": [
       "{'#': 603,\n",
       " '#1': 210,\n",
       " '#2': 106,\n",
       " '#AndThenWeHadSex': 121,\n",
       " '#BETmessedupwhen': 116,\n",
       " '#BGC': 125,\n",
       " '#CS2': 126,\n",
       " '#FAIL': 118,\n",
       " '#FF': 4640,\n",
       " '#FollowFriday': 123,\n",
       " '#HowWouldYouFeel': 164,\n",
       " '#InHighSchool': 231,\n",
       " '#Inhighschool': 101,\n",
       " '#ItsNotCool': 105,\n",
       " '#ItsNotOkay': 189,\n",
       " '#LetsBeReal': 715,\n",
       " '#MeWithoutYouIsLike': 298,\n",
       " '#NP': 141,\n",
       " '#NowPlaying': 403,\n",
       " '#Nowplaying': 181,\n",
       " '#POW': 112,\n",
       " '#PlacesIWannaHaveSex': 159,\n",
       " '#Random': 247,\n",
       " '#RandomThoughts': 110,\n",
       " '#Shoutout': 147,\n",
       " '#TDL': 105,\n",
       " '#TT': 208,\n",
       " '#amitheonlyone': 197,\n",
       " '#andthenwehadsex': 138,\n",
       " '#beforeidie': 109,\n",
       " '#chancesare': 342,\n",
       " '#dead': 178,\n",
       " '#dk1bots': 282,\n",
       " '#dontjudgeme': 257,\n",
       " '#everydayiwakeup': 317,\n",
       " '#fact': 235,\n",
       " '#fail': 396,\n",
       " '#famusextape': 156,\n",
       " '#fb': 115,\n",
       " '#ff': 1436,\n",
       " '#howwouldyoufeel': 185,\n",
       " '#iREFUSEto': 215,\n",
       " '#ibelieve': 240,\n",
       " '#icheatedbecause': 495,\n",
       " '#imjustsayin': 256,\n",
       " '#imjustsaying': 184,\n",
       " '#inhighschool': 2312,\n",
       " '#irefuse': 115,\n",
       " '#irefuseto': 437,\n",
       " '#itsnotcool': 359,\n",
       " '#itsnotokay': 546,\n",
       " '#letsbereal': 1133,\n",
       " '#mewithoutyouislike': 246,\n",
       " '#notcool': 114,\n",
       " '#nowplayin': 107,\n",
       " '#nowplaying': 2505,\n",
       " '#np': 165,\n",
       " '#oneofmyfollowers': 109,\n",
       " '#placesiwannahavesex': 185,\n",
       " '#random': 874,\n",
       " '#randomthought': 135,\n",
       " '#randomthoughts': 190,\n",
       " '#realgrandmas': 275,\n",
       " '#realtalk': 260,\n",
       " '#realthugs': 208,\n",
       " '#sex': 141,\n",
       " '#shoutout': 840,\n",
       " '#shoutouts': 106,\n",
       " '#smh': 150,\n",
       " '#teamblackberry': 204,\n",
       " '#thatisall': 309,\n",
       " '#thuglife': 175,\n",
       " '#twitterafterdark': 297,\n",
       " '#unotfromthehoodif': 208}"
      ]
     },
     "execution_count": 34,
     "metadata": {},
     "output_type": "execute_result"
    }
   ],
   "source": [
    "top_hashtags_dict"
   ]
  },
  {
   "cell_type": "markdown",
   "metadata": {},
   "source": [
    "## 4.1 Access dictionary keys and values"
   ]
  },
  {
   "cell_type": "code",
   "execution_count": 52,
   "metadata": {},
   "outputs": [
    {
     "name": "stdout",
     "output_type": "stream",
     "text": [
      "dict_keys(['#FF', '#shoutout', '#teamblackberry', '#TT', '#ItsNotOkay', '#TDL', '#irefuseto', '#AndThenWeHadSex', '#InHighSchool', '#oneofmyfollowers', '#Inhighschool', '#smh', '#imjustsayin', '#Random', '#thatisall', '#realtalk', '#mewithoutyouislike', '#random', '#imjustsaying', '#amitheonlyone', '#dead', '#ItsNotCool', '#everydayiwakeup', '#MeWithoutYouIsLike', '#realgrandmas', '#Nowplaying', '#PlacesIWannaHaveSex', '#letsbereal', '#icheatedbecause', '#twitterafterdark', '#', '#thuglife', '#BGC', '#FollowFriday', '#beforeidie', '#notcool', '#1', '#nowplayin', '#sex', '#fb', '#iREFUSEto', '#NowPlaying', '#Shoutout', '#randomthoughts', '#dontjudgeme', '#andthenwehadsex', '#CS2', '#itsnotcool', '#realthugs', '#FAIL', '#chancesare', '#dk1bots', '#famusextape', '#inhighschool', '#placesiwannahavesex', '#NP', '#POW', '#unotfromthehoodif', '#ibelieve', '#HowWouldYouFeel', '#nowplaying', '#irefuse', '#RandomThoughts', '#shoutouts', '#BETmessedupwhen', '#LetsBeReal', '#2', '#ff', '#fact', '#howwouldyoufeel', '#randomthought', '#itsnotokay', '#np', '#fail'])\n",
      "dict_values([4640, 840, 204, 208, 189, 105, 437, 121, 231, 109, 101, 150, 256, 247, 309, 260, 246, 874, 184, 197, 178, 105, 317, 298, 275, 181, 159, 1133, 495, 297, 603, 175, 125, 123, 109, 114, 210, 107, 141, 115, 215, 403, 147, 190, 257, 138, 126, 359, 208, 118, 342, 282, 156, 2312, 185, 141, 112, 208, 240, 164, 2505, 115, 110, 106, 116, 715, 106, 1436, 235, 185, 135, 546, 165, 396])\n"
     ]
    },
    {
     "data": {
      "text/plain": [
       "2312"
      ]
     },
     "execution_count": 52,
     "metadata": {},
     "output_type": "execute_result"
    }
   ],
   "source": [
    "top_hashtags_dict = {'#ff': 1436, '#FF': 4640, '#shoutout': 840, '#teamblackberry': 204, '#TT': 208, '#TDL': 105, '#irefuseto': 437, '#irefuse': 115, '#CS2': 126, '#oneofmyfollowers': 109, '#Inhighschool': 101, '#smh': 150, '#iREFUSEto': 215, '#imjustsayin': 256, '#FollowFriday': 123, '#RandomThoughts': 110, '#realtalk': 260, '#mewithoutyouislike': 246, '#random': 874, '#imjustsaying': 184, '#amitheonlyone': 197, '#dead': 178, '#ItsNotCool': 105, '#everydayiwakeup': 317, '#notcool': 114, '#realgrandmas': 275, '#Nowplaying': 181, '#PlacesIWannaHaveSex': 159, '#letsbereal': 1133, '#icheatedbecause': 495, '#twitterafterdark': 297, '#randomthought': 135, '#': 603, '#thuglife': 175, '#realthugs': 208, '#BGC': 125, '#Random': 247, '#MeWithoutYouIsLike': 298, '#1': 210, '#nowplayin': 107, '#sex': 141, '#famusextape': 156, '#Shoutout': 147, '#randomthoughts': 190, '#dontjudgeme': 257, '#andthenwehadsex': 138, '#InHighSchool': 231, '#FAIL': 118, '#itsnotcool': 359, '#fb': 115, '#NowPlaying': 403, '#chancesare': 342, '#dk1bots': 282, '#beforeidie': 109, '#inhighschool': 2312, '#placesiwannahavesex': 185, '#NP': 141, '#POW': 112, '#unotfromthehoodif': 208, '#ibelieve': 240, '#HowWouldYouFeel': 164, '#nowplaying': 2505, '#AndThenWeHadSex': 121, '#thatisall': 309, '#shoutouts': 106, '#BETmessedupwhen': 116, '#LetsBeReal': 715, '#2': 106, '#ItsNotOkay': 189, '#fact': 235, '#howwouldyoufeel': 185, '#itsnotokay': 546, '#np': 165, '#fail': 396}\n",
    "\n",
    "# get a list of all hashtags (keys)\n",
    "top_keys = top_hashtags_dict.keys()\n",
    "print(top_keys)\n",
    "\n",
    "\n",
    "# get a list of all counts for the hashtags\n",
    "top_values = top_hashtags_dict.values()\n",
    "print(top_values)\n",
    "\n",
    "# get the count of a specific hashtag\n",
    "\n",
    "top_hashtags_dict['#inhighschool']"
   ]
  },
  {
   "cell_type": "code",
   "execution_count": null,
   "metadata": {
    "collapsed": true
   },
   "outputs": [],
   "source": []
  },
  {
   "cell_type": "markdown",
   "metadata": {},
   "source": [
    "## 4.2 Calculate word counts for all hashtags"
   ]
  },
  {
   "cell_type": "code",
   "execution_count": null,
   "metadata": {
    "collapsed": true
   },
   "outputs": [],
   "source": []
  },
  {
   "cell_type": "code",
   "execution_count": 19,
   "metadata": {},
   "outputs": [
    {
     "data": {
      "text/plain": [
       "[('#FF', 4640),\n",
       " ('#nowplaying', 2505),\n",
       " ('#inhighschool', 2312),\n",
       " ('#ff', 1436),\n",
       " ('#letsbereal', 1133),\n",
       " ('#random', 874),\n",
       " ('#shoutout', 840),\n",
       " ('#LetsBeReal', 715),\n",
       " ('#', 603),\n",
       " ('#itsnotokay', 546),\n",
       " ('#icheatedbecause', 495),\n",
       " ('#irefuseto', 437),\n",
       " ('#NowPlaying', 403),\n",
       " ('#fail', 396),\n",
       " ('#itsnotcool', 359),\n",
       " ('#chancesare', 342),\n",
       " ('#everydayiwakeup', 317),\n",
       " ('#thatisall', 309),\n",
       " ('#MeWithoutYouIsLike', 298),\n",
       " ('#twitterafterdark', 297)]"
      ]
     },
     "execution_count": 19,
     "metadata": {},
     "output_type": "execute_result"
    }
   ],
   "source": [
    "\"\"\" Extract all hashtags from a twitter file \"\"\"\n",
    "\n",
    "import re\n",
    "\n",
    "f = open('data/full_text.txt', encoding=\"latin-1\")\n",
    "text = f.read()\n",
    "\n",
    "hashtag_list = re.findall(r'#\\w*', text)\n",
    "\n",
    "hashtag_cnt = {}\n",
    "\n",
    "for hashtag in hashtag_list:\n",
    "    if hashtag in hashtag_cnt.keys():\n",
    "        hashtag_cnt[hashtag]+=1\n",
    "    else:\n",
    "        hashtag_cnt[hashtag] = 1\n",
    "\n",
    "sorted(hashtag_cnt.items(), key=lambda x: x[1], reverse=True)[:20]"
   ]
  },
  {
   "cell_type": "markdown",
   "metadata": {},
   "source": [
    "### $\\Delta$ Exercise 4.2 - Find most frequently mentioned users"
   ]
  },
  {
   "cell_type": "code",
   "execution_count": null,
   "metadata": {
    "collapsed": true
   },
   "outputs": [],
   "source": [
    "\"\"\" Extract all hashtags from a twitter file \"\"\"\n",
    "\n",
    "import re\n",
    "\n",
    "f = open('data/full_text.txt', encoding=\"latin-1\")\n",
    "text = f.readlines()\n",
    "\n",
    "###############################\n",
    "# Insert your code block below\n",
    "###############################"
   ]
  }
 ],
 "metadata": {
  "anaconda-cloud": {},
  "kernelspec": {
   "display_name": "Python 3",
   "language": "python",
   "name": "python3"
  },
  "language_info": {
   "codemirror_mode": {
    "name": "ipython",
    "version": 3
   },
   "file_extension": ".py",
   "mimetype": "text/x-python",
   "name": "python",
   "nbconvert_exporter": "python",
   "pygments_lexer": "ipython3",
   "version": "3.6.2"
  }
 },
 "nbformat": 4,
 "nbformat_minor": 2
}
